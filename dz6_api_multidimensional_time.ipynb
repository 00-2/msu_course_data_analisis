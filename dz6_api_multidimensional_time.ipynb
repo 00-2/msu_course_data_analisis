{
 "cells": [
  {
   "cell_type": "code",
   "execution_count": 90,
   "metadata": {
    "collapsed": true
   },
   "outputs": [
    {
     "name": "stdout",
     "output_type": "stream",
     "text": [
      "plane-crash.zip: Skipping, found more recently modified local copy (use --force to force download)\r\n"
     ]
    }
   ],
   "source": [
    "from pprint import pprint\n",
    "import requests\n",
    "\n",
    "TOKEN_API_OPENWEATHER = '16566c3a3219a0c615ec12412a4acaae'\n",
    "city_ID = 'LONDON'\n",
    "country_code = 'UK'\n",
    "data = requests.get(f'http://history.openweathermap.org/data/2.5/history/city?q={city_ID},{country_code}&type=hour&appid={TOKEN_API_OPENWEATHER}').json()\n",
    "# это перестало работать :(\n",
    "# не дает взять данные за временной промежуток - хочет денег\n",
    "# но доставать данные по api я научился\n",
    "\n",
    "\n",
    "import os\n",
    "os.environ['KAGGLE_USERNAME'] = \"nkoluzanov\"\n",
    "os.environ['KAGGLE_KEY'] = \"3985ee1aec78f857e9cf60d34c1af2c3\"\n",
    "!kaggle datasets download -d nguyenhoc/plane-crash\n",
    "# unzip\n",
    "import zipfile\n",
    "path_to_extract = 'data/plane_crash_dataset/'\n",
    "with zipfile.ZipFile('plane-crash.zip', 'r') as zip_ref:\n",
    "    zip_ref.extractall(path_to_extract)"
   ]
  },
  {
   "cell_type": "code",
   "execution_count": 91,
   "outputs": [],
   "source": [
    "import pandas as pd\n",
    "import numpy as np"
   ],
   "metadata": {
    "collapsed": false,
    "pycharm": {
     "name": "#%%\n"
    }
   }
  },
  {
   "cell_type": "code",
   "execution_count": 92,
   "outputs": [],
   "source": [
    "data = pd.read_csv(os.path.join('data/plane_crash_dataset','planecrashinfo_20181121001952.csv'))"
   ],
   "metadata": {
    "collapsed": false,
    "pycharm": {
     "name": "#%%\n"
    }
   }
  },
  {
   "cell_type": "code",
   "execution_count": 93,
   "outputs": [
    {
     "data": {
      "text/plain": "                    date   time                             location  \\\n4783       July 30, 1998  15:58                Near Quiberon, France   \n4784       July 30, 1998  11:05                         Kochi, India   \n4785     August 04, 1998  17:58  Kincolith, British Columbia, Canada   \n4786     August 11, 1998      ?                      Saurimo, Angola   \n4787     August 19, 1998  16:40          Foveaux Strait, New Zealand   \n...                  ...    ...                                  ...   \n5778       July 10, 2018   0744               Pretoria, South Africa   \n5779     August 04, 2018   1655                   Flims, Switzerland   \n5780  September 28, 2018   1010                    Chuuk, Micronesia   \n5781    October 29, 2018   0631               Off Jakarta, Indonesia   \n5782   November 06, 2018   0253                   Georgetown, Guyana   \n\n                        operator flight_no  \\\n4783       Proteus Air / Private       706   \n4784           Alliance Airlines       503   \n4785  Harbour Air Seaplanes Ltd.       709   \n4786                       Alada         ?   \n4787            Vincent Aviation         ?   \n...                          ...       ...   \n5778                   Rovos Air         ?   \n5779                      Ju Air         ?   \n5780                 Air Niugini         ?   \n5781                    Lion Air       610   \n5782         Fly Jamaica Airways         ?   \n\n                                    route                        ac_type  \\\n4783                       Lyon - Lorient  Beechcraft 1900D / Cessna 177   \n4784  Agathi - Kochi - Thiruvananthapuram                Dornier 228-201   \n4785            Prince Rupert - Kincolith     de Havilland Dash-2 Beaver   \n4786                                    ?                Antonov An-12BP   \n4787        Stewart Island - Invercargill                    Cessna 402C   \n...                                   ...                            ...   \n5778                          Test Flight                 Convair CV-340   \n5779                  Locorno - Dubendorf                  Junkers JU-52   \n5780                      Pohnpei - Chuuk                 Boeing 737-8BK   \n5781             Jakarta - Pangkal Pinang               Boeing 737-MAX 8   \n5782                 Georgetown - Toronto                 Boeing 757-N23   \n\n       registration       cn_ln                          aboard  \\\n4783  F-GSJM/F-GAJE      UE-238    15   (passengers:12  crew:3)   \n4784         VT-EJW   8075/2017      6   (passengers:3  crew:3)   \n4785         C-FOCJ        0039      5   (passengers:4  crew:1)   \n4786         D2-FAZ           ?     13   (passengers:6  crew:7)   \n4787         ZK-VAC    402C0512     10   (passengers:9  crew:1)   \n...             ...         ...                             ...   \n5778         ZS-BRV         215    19   (passengers:16  crew:3)   \n5779         HB-HOT        6595    20   (passengers:17  crew:3)   \n5780         P2-PXE  33024/1688   47   (passengers:35  crew:12)   \n5781         PK-LQP  43000/7058  189   (passengers:181  crew:8)   \n5782         N524AT   30233/895  128   (passengers:120  crew:8)   \n\n                          fatalities ground  \\\n4783    15   (passengers:12  crew:3)      0   \n4784      6   (passengers:3  crew:3)      2   \n4785      5   (passengers:4  crew:1)      0   \n4786      1   (passengers:0  crew:1)      0   \n4787      5   (passengers:4  crew:1)      0   \n...                              ...    ...   \n5778      1   (passengers:0  crew:1)      1   \n5779    20   (passengers:17  crew:3)      1   \n5780      1   (passengers:1  crew:0)      0   \n5781  189   (passengers:181  crew:8)      0   \n5782      1   (passengers:1  crew:0)      0   \n\n                                                summary  \n4783  Midair collision. The Beechcraft was on a flig...  \n4784  Shortly after taking off the plane pitched up,...  \n4785  The pilot made three low passes over the water...  \n4786  Blew a tire while landing causing the plane to...  \n4787  While en route, the aircraft experienced doubl...  \n...                                                 ...  \n5778  Shortly after takeoff from runway 29, the left...  \n5779  The vintage aircraft crashed onto Piz Segnas m...  \n5780  The aircraft was approaching for a landing at ...  \n5781  The airliner crashed into the Jakarta Sea, 13 ...  \n5782  After taking off and reaching FL200, the crew ...  \n\n[1000 rows x 13 columns]",
      "text/html": "<div>\n<style scoped>\n    .dataframe tbody tr th:only-of-type {\n        vertical-align: middle;\n    }\n\n    .dataframe tbody tr th {\n        vertical-align: top;\n    }\n\n    .dataframe thead th {\n        text-align: right;\n    }\n</style>\n<table border=\"1\" class=\"dataframe\">\n  <thead>\n    <tr style=\"text-align: right;\">\n      <th></th>\n      <th>date</th>\n      <th>time</th>\n      <th>location</th>\n      <th>operator</th>\n      <th>flight_no</th>\n      <th>route</th>\n      <th>ac_type</th>\n      <th>registration</th>\n      <th>cn_ln</th>\n      <th>aboard</th>\n      <th>fatalities</th>\n      <th>ground</th>\n      <th>summary</th>\n    </tr>\n  </thead>\n  <tbody>\n    <tr>\n      <th>4783</th>\n      <td>July 30, 1998</td>\n      <td>15:58</td>\n      <td>Near Quiberon, France</td>\n      <td>Proteus Air / Private</td>\n      <td>706</td>\n      <td>Lyon - Lorient</td>\n      <td>Beechcraft 1900D / Cessna 177</td>\n      <td>F-GSJM/F-GAJE</td>\n      <td>UE-238</td>\n      <td>15   (passengers:12  crew:3)</td>\n      <td>15   (passengers:12  crew:3)</td>\n      <td>0</td>\n      <td>Midair collision. The Beechcraft was on a flig...</td>\n    </tr>\n    <tr>\n      <th>4784</th>\n      <td>July 30, 1998</td>\n      <td>11:05</td>\n      <td>Kochi, India</td>\n      <td>Alliance Airlines</td>\n      <td>503</td>\n      <td>Agathi - Kochi - Thiruvananthapuram</td>\n      <td>Dornier 228-201</td>\n      <td>VT-EJW</td>\n      <td>8075/2017</td>\n      <td>6   (passengers:3  crew:3)</td>\n      <td>6   (passengers:3  crew:3)</td>\n      <td>2</td>\n      <td>Shortly after taking off the plane pitched up,...</td>\n    </tr>\n    <tr>\n      <th>4785</th>\n      <td>August 04, 1998</td>\n      <td>17:58</td>\n      <td>Kincolith, British Columbia, Canada</td>\n      <td>Harbour Air Seaplanes Ltd.</td>\n      <td>709</td>\n      <td>Prince Rupert - Kincolith</td>\n      <td>de Havilland Dash-2 Beaver</td>\n      <td>C-FOCJ</td>\n      <td>0039</td>\n      <td>5   (passengers:4  crew:1)</td>\n      <td>5   (passengers:4  crew:1)</td>\n      <td>0</td>\n      <td>The pilot made three low passes over the water...</td>\n    </tr>\n    <tr>\n      <th>4786</th>\n      <td>August 11, 1998</td>\n      <td>?</td>\n      <td>Saurimo, Angola</td>\n      <td>Alada</td>\n      <td>?</td>\n      <td>?</td>\n      <td>Antonov An-12BP</td>\n      <td>D2-FAZ</td>\n      <td>?</td>\n      <td>13   (passengers:6  crew:7)</td>\n      <td>1   (passengers:0  crew:1)</td>\n      <td>0</td>\n      <td>Blew a tire while landing causing the plane to...</td>\n    </tr>\n    <tr>\n      <th>4787</th>\n      <td>August 19, 1998</td>\n      <td>16:40</td>\n      <td>Foveaux Strait, New Zealand</td>\n      <td>Vincent Aviation</td>\n      <td>?</td>\n      <td>Stewart Island - Invercargill</td>\n      <td>Cessna 402C</td>\n      <td>ZK-VAC</td>\n      <td>402C0512</td>\n      <td>10   (passengers:9  crew:1)</td>\n      <td>5   (passengers:4  crew:1)</td>\n      <td>0</td>\n      <td>While en route, the aircraft experienced doubl...</td>\n    </tr>\n    <tr>\n      <th>...</th>\n      <td>...</td>\n      <td>...</td>\n      <td>...</td>\n      <td>...</td>\n      <td>...</td>\n      <td>...</td>\n      <td>...</td>\n      <td>...</td>\n      <td>...</td>\n      <td>...</td>\n      <td>...</td>\n      <td>...</td>\n      <td>...</td>\n    </tr>\n    <tr>\n      <th>5778</th>\n      <td>July 10, 2018</td>\n      <td>0744</td>\n      <td>Pretoria, South Africa</td>\n      <td>Rovos Air</td>\n      <td>?</td>\n      <td>Test Flight</td>\n      <td>Convair CV-340</td>\n      <td>ZS-BRV</td>\n      <td>215</td>\n      <td>19   (passengers:16  crew:3)</td>\n      <td>1   (passengers:0  crew:1)</td>\n      <td>1</td>\n      <td>Shortly after takeoff from runway 29, the left...</td>\n    </tr>\n    <tr>\n      <th>5779</th>\n      <td>August 04, 2018</td>\n      <td>1655</td>\n      <td>Flims, Switzerland</td>\n      <td>Ju Air</td>\n      <td>?</td>\n      <td>Locorno - Dubendorf</td>\n      <td>Junkers JU-52</td>\n      <td>HB-HOT</td>\n      <td>6595</td>\n      <td>20   (passengers:17  crew:3)</td>\n      <td>20   (passengers:17  crew:3)</td>\n      <td>1</td>\n      <td>The vintage aircraft crashed onto Piz Segnas m...</td>\n    </tr>\n    <tr>\n      <th>5780</th>\n      <td>September 28, 2018</td>\n      <td>1010</td>\n      <td>Chuuk, Micronesia</td>\n      <td>Air Niugini</td>\n      <td>?</td>\n      <td>Pohnpei - Chuuk</td>\n      <td>Boeing 737-8BK</td>\n      <td>P2-PXE</td>\n      <td>33024/1688</td>\n      <td>47   (passengers:35  crew:12)</td>\n      <td>1   (passengers:1  crew:0)</td>\n      <td>0</td>\n      <td>The aircraft was approaching for a landing at ...</td>\n    </tr>\n    <tr>\n      <th>5781</th>\n      <td>October 29, 2018</td>\n      <td>0631</td>\n      <td>Off Jakarta, Indonesia</td>\n      <td>Lion Air</td>\n      <td>610</td>\n      <td>Jakarta - Pangkal Pinang</td>\n      <td>Boeing 737-MAX 8</td>\n      <td>PK-LQP</td>\n      <td>43000/7058</td>\n      <td>189   (passengers:181  crew:8)</td>\n      <td>189   (passengers:181  crew:8)</td>\n      <td>0</td>\n      <td>The airliner crashed into the Jakarta Sea, 13 ...</td>\n    </tr>\n    <tr>\n      <th>5782</th>\n      <td>November 06, 2018</td>\n      <td>0253</td>\n      <td>Georgetown, Guyana</td>\n      <td>Fly Jamaica Airways</td>\n      <td>?</td>\n      <td>Georgetown - Toronto</td>\n      <td>Boeing 757-N23</td>\n      <td>N524AT</td>\n      <td>30233/895</td>\n      <td>128   (passengers:120  crew:8)</td>\n      <td>1   (passengers:1  crew:0)</td>\n      <td>0</td>\n      <td>After taking off and reaching FL200, the crew ...</td>\n    </tr>\n  </tbody>\n</table>\n<p>1000 rows × 13 columns</p>\n</div>"
     },
     "execution_count": 93,
     "metadata": {},
     "output_type": "execute_result"
    }
   ],
   "source": [
    "last_crashes = data.tail(1000)\n",
    "last_crashes"
   ],
   "metadata": {
    "collapsed": false,
    "pycharm": {
     "name": "#%%\n"
    }
   }
  },
  {
   "cell_type": "code",
   "execution_count": 94,
   "outputs": [
    {
     "name": "stdout",
     "output_type": "stream",
     "text": [
      "<class 'pandas.core.frame.DataFrame'>\n",
      "RangeIndex: 1000 entries, 4783 to 5782\n",
      "Data columns (total 13 columns):\n",
      " #   Column        Non-Null Count  Dtype \n",
      "---  ------        --------------  ----- \n",
      " 0   date          1000 non-null   object\n",
      " 1   time          1000 non-null   object\n",
      " 2   location      1000 non-null   object\n",
      " 3   operator      1000 non-null   object\n",
      " 4   flight_no     1000 non-null   object\n",
      " 5   route         1000 non-null   object\n",
      " 6   ac_type       1000 non-null   object\n",
      " 7   registration  1000 non-null   object\n",
      " 8   cn_ln         1000 non-null   object\n",
      " 9   aboard        1000 non-null   object\n",
      " 10  fatalities    1000 non-null   object\n",
      " 11  ground        1000 non-null   object\n",
      " 12  summary       1000 non-null   object\n",
      "dtypes: object(13)\n",
      "memory usage: 101.7+ KB\n"
     ]
    }
   ],
   "source": [
    "last_crashes.info()"
   ],
   "metadata": {
    "collapsed": false,
    "pycharm": {
     "name": "#%%\n"
    }
   }
  },
  {
   "cell_type": "markdown",
   "source": [
    "*standartize time date*"
   ],
   "metadata": {
    "collapsed": false
   }
  },
  {
   "cell_type": "code",
   "execution_count": 95,
   "outputs": [],
   "source": [
    "from datetime import datetime\n",
    "\n",
    "datetime_object = datetime.strptime('July 30, 1998', '%B %d, %Y')\n",
    "with np.nditer([last_crashes['date'], last_crashes['time']], flags=[\"refs_ok\"], op_flags=['readwrite']) as it:\n",
    "   for x,y in it:\n",
    "       y = str(y).replace('?', '00:00').replace('c','')\n",
    "       try:\n",
    "            x[...] = datetime.strptime(str(x)+ ' ' + str(y), '%B %d, %Y %H:%M')\n",
    "       except ValueError:\n",
    "            x[...] = datetime.strptime(str(x) + ' 00:00', '%B %d, %Y %H:%M')"
   ],
   "metadata": {
    "collapsed": false,
    "pycharm": {
     "name": "#%%\n"
    }
   }
  },
  {
   "cell_type": "code",
   "execution_count": 96,
   "outputs": [
    {
     "data": {
      "text/plain": "                     date   time                             location  \\\n4783  1998-07-30 15:58:00  15:58                Near Quiberon, France   \n4784  1998-07-30 11:05:00  11:05                         Kochi, India   \n4785  1998-08-04 17:58:00  17:58  Kincolith, British Columbia, Canada   \n4786  1998-08-11 00:00:00      ?                      Saurimo, Angola   \n4787  1998-08-19 16:40:00  16:40          Foveaux Strait, New Zealand   \n\n                        operator flight_no  \\\n4783       Proteus Air / Private       706   \n4784           Alliance Airlines       503   \n4785  Harbour Air Seaplanes Ltd.       709   \n4786                       Alada         ?   \n4787            Vincent Aviation         ?   \n\n                                    route                        ac_type  \\\n4783                       Lyon - Lorient  Beechcraft 1900D / Cessna 177   \n4784  Agathi - Kochi - Thiruvananthapuram                Dornier 228-201   \n4785            Prince Rupert - Kincolith     de Havilland Dash-2 Beaver   \n4786                                    ?                Antonov An-12BP   \n4787        Stewart Island - Invercargill                    Cessna 402C   \n\n       registration      cn_ln                        aboard  \\\n4783  F-GSJM/F-GAJE     UE-238  15   (passengers:12  crew:3)   \n4784         VT-EJW  8075/2017    6   (passengers:3  crew:3)   \n4785         C-FOCJ       0039    5   (passengers:4  crew:1)   \n4786         D2-FAZ          ?   13   (passengers:6  crew:7)   \n4787         ZK-VAC   402C0512   10   (passengers:9  crew:1)   \n\n                        fatalities ground  \\\n4783  15   (passengers:12  crew:3)      0   \n4784    6   (passengers:3  crew:3)      2   \n4785    5   (passengers:4  crew:1)      0   \n4786    1   (passengers:0  crew:1)      0   \n4787    5   (passengers:4  crew:1)      0   \n\n                                                summary  \n4783  Midair collision. The Beechcraft was on a flig...  \n4784  Shortly after taking off the plane pitched up,...  \n4785  The pilot made three low passes over the water...  \n4786  Blew a tire while landing causing the plane to...  \n4787  While en route, the aircraft experienced doubl...  ",
      "text/html": "<div>\n<style scoped>\n    .dataframe tbody tr th:only-of-type {\n        vertical-align: middle;\n    }\n\n    .dataframe tbody tr th {\n        vertical-align: top;\n    }\n\n    .dataframe thead th {\n        text-align: right;\n    }\n</style>\n<table border=\"1\" class=\"dataframe\">\n  <thead>\n    <tr style=\"text-align: right;\">\n      <th></th>\n      <th>date</th>\n      <th>time</th>\n      <th>location</th>\n      <th>operator</th>\n      <th>flight_no</th>\n      <th>route</th>\n      <th>ac_type</th>\n      <th>registration</th>\n      <th>cn_ln</th>\n      <th>aboard</th>\n      <th>fatalities</th>\n      <th>ground</th>\n      <th>summary</th>\n    </tr>\n  </thead>\n  <tbody>\n    <tr>\n      <th>4783</th>\n      <td>1998-07-30 15:58:00</td>\n      <td>15:58</td>\n      <td>Near Quiberon, France</td>\n      <td>Proteus Air / Private</td>\n      <td>706</td>\n      <td>Lyon - Lorient</td>\n      <td>Beechcraft 1900D / Cessna 177</td>\n      <td>F-GSJM/F-GAJE</td>\n      <td>UE-238</td>\n      <td>15   (passengers:12  crew:3)</td>\n      <td>15   (passengers:12  crew:3)</td>\n      <td>0</td>\n      <td>Midair collision. The Beechcraft was on a flig...</td>\n    </tr>\n    <tr>\n      <th>4784</th>\n      <td>1998-07-30 11:05:00</td>\n      <td>11:05</td>\n      <td>Kochi, India</td>\n      <td>Alliance Airlines</td>\n      <td>503</td>\n      <td>Agathi - Kochi - Thiruvananthapuram</td>\n      <td>Dornier 228-201</td>\n      <td>VT-EJW</td>\n      <td>8075/2017</td>\n      <td>6   (passengers:3  crew:3)</td>\n      <td>6   (passengers:3  crew:3)</td>\n      <td>2</td>\n      <td>Shortly after taking off the plane pitched up,...</td>\n    </tr>\n    <tr>\n      <th>4785</th>\n      <td>1998-08-04 17:58:00</td>\n      <td>17:58</td>\n      <td>Kincolith, British Columbia, Canada</td>\n      <td>Harbour Air Seaplanes Ltd.</td>\n      <td>709</td>\n      <td>Prince Rupert - Kincolith</td>\n      <td>de Havilland Dash-2 Beaver</td>\n      <td>C-FOCJ</td>\n      <td>0039</td>\n      <td>5   (passengers:4  crew:1)</td>\n      <td>5   (passengers:4  crew:1)</td>\n      <td>0</td>\n      <td>The pilot made three low passes over the water...</td>\n    </tr>\n    <tr>\n      <th>4786</th>\n      <td>1998-08-11 00:00:00</td>\n      <td>?</td>\n      <td>Saurimo, Angola</td>\n      <td>Alada</td>\n      <td>?</td>\n      <td>?</td>\n      <td>Antonov An-12BP</td>\n      <td>D2-FAZ</td>\n      <td>?</td>\n      <td>13   (passengers:6  crew:7)</td>\n      <td>1   (passengers:0  crew:1)</td>\n      <td>0</td>\n      <td>Blew a tire while landing causing the plane to...</td>\n    </tr>\n    <tr>\n      <th>4787</th>\n      <td>1998-08-19 16:40:00</td>\n      <td>16:40</td>\n      <td>Foveaux Strait, New Zealand</td>\n      <td>Vincent Aviation</td>\n      <td>?</td>\n      <td>Stewart Island - Invercargill</td>\n      <td>Cessna 402C</td>\n      <td>ZK-VAC</td>\n      <td>402C0512</td>\n      <td>10   (passengers:9  crew:1)</td>\n      <td>5   (passengers:4  crew:1)</td>\n      <td>0</td>\n      <td>While en route, the aircraft experienced doubl...</td>\n    </tr>\n  </tbody>\n</table>\n</div>"
     },
     "execution_count": 96,
     "metadata": {},
     "output_type": "execute_result"
    }
   ],
   "source": [
    "\n",
    "last_crashes.head()"
   ],
   "metadata": {
    "collapsed": false,
    "pycharm": {
     "name": "#%%\n"
    }
   }
  },
  {
   "cell_type": "code",
   "execution_count": 97,
   "outputs": [],
   "source": [
    "last_crashes.index = pd.to_datetime(last_crashes['date'])"
   ],
   "metadata": {
    "collapsed": false,
    "pycharm": {
     "name": "#%%\n"
    }
   }
  },
  {
   "cell_type": "code",
   "execution_count": 98,
   "outputs": [],
   "source": [
    "# last_crashes = last_crashes.drop(columns='date')"
   ],
   "metadata": {
    "collapsed": false,
    "pycharm": {
     "name": "#%%\n"
    }
   }
  },
  {
   "cell_type": "code",
   "execution_count": 99,
   "outputs": [
    {
     "data": {
      "text/plain": "                                    date   time  \\\ndate                                              \n1998-07-30 15:58:00  1998-07-30 15:58:00  15:58   \n1998-07-30 11:05:00  1998-07-30 11:05:00  11:05   \n1998-08-04 17:58:00  1998-08-04 17:58:00  17:58   \n1998-08-11 00:00:00  1998-08-11 00:00:00      ?   \n1998-08-19 16:40:00  1998-08-19 16:40:00  16:40   \n\n                                                location  \\\ndate                                                       \n1998-07-30 15:58:00                Near Quiberon, France   \n1998-07-30 11:05:00                         Kochi, India   \n1998-08-04 17:58:00  Kincolith, British Columbia, Canada   \n1998-08-11 00:00:00                      Saurimo, Angola   \n1998-08-19 16:40:00          Foveaux Strait, New Zealand   \n\n                                       operator flight_no  \\\ndate                                                        \n1998-07-30 15:58:00       Proteus Air / Private       706   \n1998-07-30 11:05:00           Alliance Airlines       503   \n1998-08-04 17:58:00  Harbour Air Seaplanes Ltd.       709   \n1998-08-11 00:00:00                       Alada         ?   \n1998-08-19 16:40:00            Vincent Aviation         ?   \n\n                                                   route  \\\ndate                                                       \n1998-07-30 15:58:00                       Lyon - Lorient   \n1998-07-30 11:05:00  Agathi - Kochi - Thiruvananthapuram   \n1998-08-04 17:58:00            Prince Rupert - Kincolith   \n1998-08-11 00:00:00                                    ?   \n1998-08-19 16:40:00        Stewart Island - Invercargill   \n\n                                           ac_type   registration      cn_ln  \\\ndate                                                                           \n1998-07-30 15:58:00  Beechcraft 1900D / Cessna 177  F-GSJM/F-GAJE     UE-238   \n1998-07-30 11:05:00                Dornier 228-201         VT-EJW  8075/2017   \n1998-08-04 17:58:00     de Havilland Dash-2 Beaver         C-FOCJ       0039   \n1998-08-11 00:00:00                Antonov An-12BP         D2-FAZ          ?   \n1998-08-19 16:40:00                    Cessna 402C         ZK-VAC   402C0512   \n\n                                           aboard  \\\ndate                                                \n1998-07-30 15:58:00  15   (passengers:12  crew:3)   \n1998-07-30 11:05:00    6   (passengers:3  crew:3)   \n1998-08-04 17:58:00    5   (passengers:4  crew:1)   \n1998-08-11 00:00:00   13   (passengers:6  crew:7)   \n1998-08-19 16:40:00   10   (passengers:9  crew:1)   \n\n                                       fatalities ground  \\\ndate                                                       \n1998-07-30 15:58:00  15   (passengers:12  crew:3)      0   \n1998-07-30 11:05:00    6   (passengers:3  crew:3)      2   \n1998-08-04 17:58:00    5   (passengers:4  crew:1)      0   \n1998-08-11 00:00:00    1   (passengers:0  crew:1)      0   \n1998-08-19 16:40:00    5   (passengers:4  crew:1)      0   \n\n                                                               summary  \ndate                                                                    \n1998-07-30 15:58:00  Midair collision. The Beechcraft was on a flig...  \n1998-07-30 11:05:00  Shortly after taking off the plane pitched up,...  \n1998-08-04 17:58:00  The pilot made three low passes over the water...  \n1998-08-11 00:00:00  Blew a tire while landing causing the plane to...  \n1998-08-19 16:40:00  While en route, the aircraft experienced doubl...  ",
      "text/html": "<div>\n<style scoped>\n    .dataframe tbody tr th:only-of-type {\n        vertical-align: middle;\n    }\n\n    .dataframe tbody tr th {\n        vertical-align: top;\n    }\n\n    .dataframe thead th {\n        text-align: right;\n    }\n</style>\n<table border=\"1\" class=\"dataframe\">\n  <thead>\n    <tr style=\"text-align: right;\">\n      <th></th>\n      <th>date</th>\n      <th>time</th>\n      <th>location</th>\n      <th>operator</th>\n      <th>flight_no</th>\n      <th>route</th>\n      <th>ac_type</th>\n      <th>registration</th>\n      <th>cn_ln</th>\n      <th>aboard</th>\n      <th>fatalities</th>\n      <th>ground</th>\n      <th>summary</th>\n    </tr>\n    <tr>\n      <th>date</th>\n      <th></th>\n      <th></th>\n      <th></th>\n      <th></th>\n      <th></th>\n      <th></th>\n      <th></th>\n      <th></th>\n      <th></th>\n      <th></th>\n      <th></th>\n      <th></th>\n      <th></th>\n    </tr>\n  </thead>\n  <tbody>\n    <tr>\n      <th>1998-07-30 15:58:00</th>\n      <td>1998-07-30 15:58:00</td>\n      <td>15:58</td>\n      <td>Near Quiberon, France</td>\n      <td>Proteus Air / Private</td>\n      <td>706</td>\n      <td>Lyon - Lorient</td>\n      <td>Beechcraft 1900D / Cessna 177</td>\n      <td>F-GSJM/F-GAJE</td>\n      <td>UE-238</td>\n      <td>15   (passengers:12  crew:3)</td>\n      <td>15   (passengers:12  crew:3)</td>\n      <td>0</td>\n      <td>Midair collision. The Beechcraft was on a flig...</td>\n    </tr>\n    <tr>\n      <th>1998-07-30 11:05:00</th>\n      <td>1998-07-30 11:05:00</td>\n      <td>11:05</td>\n      <td>Kochi, India</td>\n      <td>Alliance Airlines</td>\n      <td>503</td>\n      <td>Agathi - Kochi - Thiruvananthapuram</td>\n      <td>Dornier 228-201</td>\n      <td>VT-EJW</td>\n      <td>8075/2017</td>\n      <td>6   (passengers:3  crew:3)</td>\n      <td>6   (passengers:3  crew:3)</td>\n      <td>2</td>\n      <td>Shortly after taking off the plane pitched up,...</td>\n    </tr>\n    <tr>\n      <th>1998-08-04 17:58:00</th>\n      <td>1998-08-04 17:58:00</td>\n      <td>17:58</td>\n      <td>Kincolith, British Columbia, Canada</td>\n      <td>Harbour Air Seaplanes Ltd.</td>\n      <td>709</td>\n      <td>Prince Rupert - Kincolith</td>\n      <td>de Havilland Dash-2 Beaver</td>\n      <td>C-FOCJ</td>\n      <td>0039</td>\n      <td>5   (passengers:4  crew:1)</td>\n      <td>5   (passengers:4  crew:1)</td>\n      <td>0</td>\n      <td>The pilot made three low passes over the water...</td>\n    </tr>\n    <tr>\n      <th>1998-08-11 00:00:00</th>\n      <td>1998-08-11 00:00:00</td>\n      <td>?</td>\n      <td>Saurimo, Angola</td>\n      <td>Alada</td>\n      <td>?</td>\n      <td>?</td>\n      <td>Antonov An-12BP</td>\n      <td>D2-FAZ</td>\n      <td>?</td>\n      <td>13   (passengers:6  crew:7)</td>\n      <td>1   (passengers:0  crew:1)</td>\n      <td>0</td>\n      <td>Blew a tire while landing causing the plane to...</td>\n    </tr>\n    <tr>\n      <th>1998-08-19 16:40:00</th>\n      <td>1998-08-19 16:40:00</td>\n      <td>16:40</td>\n      <td>Foveaux Strait, New Zealand</td>\n      <td>Vincent Aviation</td>\n      <td>?</td>\n      <td>Stewart Island - Invercargill</td>\n      <td>Cessna 402C</td>\n      <td>ZK-VAC</td>\n      <td>402C0512</td>\n      <td>10   (passengers:9  crew:1)</td>\n      <td>5   (passengers:4  crew:1)</td>\n      <td>0</td>\n      <td>While en route, the aircraft experienced doubl...</td>\n    </tr>\n  </tbody>\n</table>\n</div>"
     },
     "execution_count": 99,
     "metadata": {},
     "output_type": "execute_result"
    }
   ],
   "source": [
    "last_crashes.head()"
   ],
   "metadata": {
    "collapsed": false,
    "pycharm": {
     "name": "#%%\n"
    }
   }
  },
  {
   "cell_type": "code",
   "execution_count": 100,
   "outputs": [
    {
     "data": {
      "text/plain": "                                    date   time  \\\ndate                                              \n1998-07-30 15:58:00  1998-07-30 15:58:00  15:58   \n1998-07-30 11:05:00  1998-07-30 11:05:00  11:05   \n1998-08-04 17:58:00  1998-08-04 17:58:00  17:58   \n1998-08-11 00:00:00  1998-08-11 00:00:00      ?   \n1998-08-19 16:40:00  1998-08-19 16:40:00  16:40   \n...                                  ...    ...   \n2018-07-10 00:00:00  2018-07-10 00:00:00   0744   \n2018-08-04 00:00:00  2018-08-04 00:00:00   1655   \n2018-09-28 00:00:00  2018-09-28 00:00:00   1010   \n2018-10-29 00:00:00  2018-10-29 00:00:00   0631   \n2018-11-06 00:00:00  2018-11-06 00:00:00   0253   \n\n                                                location  \\\ndate                                                       \n1998-07-30 15:58:00                Near Quiberon, France   \n1998-07-30 11:05:00                         Kochi, India   \n1998-08-04 17:58:00  Kincolith, British Columbia, Canada   \n1998-08-11 00:00:00                      Saurimo, Angola   \n1998-08-19 16:40:00          Foveaux Strait, New Zealand   \n...                                                  ...   \n2018-07-10 00:00:00               Pretoria, South Africa   \n2018-08-04 00:00:00                   Flims, Switzerland   \n2018-09-28 00:00:00                    Chuuk, Micronesia   \n2018-10-29 00:00:00               Off Jakarta, Indonesia   \n2018-11-06 00:00:00                   Georgetown, Guyana   \n\n                                       operator flight_no  \\\ndate                                                        \n1998-07-30 15:58:00       Proteus Air / Private       706   \n1998-07-30 11:05:00           Alliance Airlines       503   \n1998-08-04 17:58:00  Harbour Air Seaplanes Ltd.       709   \n1998-08-11 00:00:00                       Alada         ?   \n1998-08-19 16:40:00            Vincent Aviation         ?   \n...                                         ...       ...   \n2018-07-10 00:00:00                   Rovos Air         ?   \n2018-08-04 00:00:00                      Ju Air         ?   \n2018-09-28 00:00:00                 Air Niugini         ?   \n2018-10-29 00:00:00                    Lion Air       610   \n2018-11-06 00:00:00         Fly Jamaica Airways         ?   \n\n                                                   route  \\\ndate                                                       \n1998-07-30 15:58:00                       Lyon - Lorient   \n1998-07-30 11:05:00  Agathi - Kochi - Thiruvananthapuram   \n1998-08-04 17:58:00            Prince Rupert - Kincolith   \n1998-08-11 00:00:00                                    ?   \n1998-08-19 16:40:00        Stewart Island - Invercargill   \n...                                                  ...   \n2018-07-10 00:00:00                          Test Flight   \n2018-08-04 00:00:00                  Locorno - Dubendorf   \n2018-09-28 00:00:00                      Pohnpei - Chuuk   \n2018-10-29 00:00:00             Jakarta - Pangkal Pinang   \n2018-11-06 00:00:00                 Georgetown - Toronto   \n\n                                           ac_type   registration       cn_ln  \\\ndate                                                                            \n1998-07-30 15:58:00  Beechcraft 1900D / Cessna 177  F-GSJM/F-GAJE      UE-238   \n1998-07-30 11:05:00                Dornier 228-201         VT-EJW   8075/2017   \n1998-08-04 17:58:00     de Havilland Dash-2 Beaver         C-FOCJ        0039   \n1998-08-11 00:00:00                Antonov An-12BP         D2-FAZ           ?   \n1998-08-19 16:40:00                    Cessna 402C         ZK-VAC    402C0512   \n...                                            ...            ...         ...   \n2018-07-10 00:00:00                 Convair CV-340         ZS-BRV         215   \n2018-08-04 00:00:00                  Junkers JU-52         HB-HOT        6595   \n2018-09-28 00:00:00                 Boeing 737-8BK         P2-PXE  33024/1688   \n2018-10-29 00:00:00               Boeing 737-MAX 8         PK-LQP  43000/7058   \n2018-11-06 00:00:00                 Boeing 757-N23         N524AT   30233/895   \n\n                                             aboard  \\\ndate                                                  \n1998-07-30 15:58:00    15   (passengers:12  crew:3)   \n1998-07-30 11:05:00      6   (passengers:3  crew:3)   \n1998-08-04 17:58:00      5   (passengers:4  crew:1)   \n1998-08-11 00:00:00     13   (passengers:6  crew:7)   \n1998-08-19 16:40:00     10   (passengers:9  crew:1)   \n...                                             ...   \n2018-07-10 00:00:00    19   (passengers:16  crew:3)   \n2018-08-04 00:00:00    20   (passengers:17  crew:3)   \n2018-09-28 00:00:00   47   (passengers:35  crew:12)   \n2018-10-29 00:00:00  189   (passengers:181  crew:8)   \n2018-11-06 00:00:00  128   (passengers:120  crew:8)   \n\n                                         fatalities ground  \\\ndate                                                         \n1998-07-30 15:58:00    15   (passengers:12  crew:3)      0   \n1998-07-30 11:05:00      6   (passengers:3  crew:3)      2   \n1998-08-04 17:58:00      5   (passengers:4  crew:1)      0   \n1998-08-11 00:00:00      1   (passengers:0  crew:1)      0   \n1998-08-19 16:40:00      5   (passengers:4  crew:1)      0   \n...                                             ...    ...   \n2018-07-10 00:00:00      1   (passengers:0  crew:1)      1   \n2018-08-04 00:00:00    20   (passengers:17  crew:3)      1   \n2018-09-28 00:00:00      1   (passengers:1  crew:0)      0   \n2018-10-29 00:00:00  189   (passengers:181  crew:8)      0   \n2018-11-06 00:00:00      1   (passengers:1  crew:0)      0   \n\n                                                               summary  \ndate                                                                    \n1998-07-30 15:58:00  Midair collision. The Beechcraft was on a flig...  \n1998-07-30 11:05:00  Shortly after taking off the plane pitched up,...  \n1998-08-04 17:58:00  The pilot made three low passes over the water...  \n1998-08-11 00:00:00  Blew a tire while landing causing the plane to...  \n1998-08-19 16:40:00  While en route, the aircraft experienced doubl...  \n...                                                                ...  \n2018-07-10 00:00:00  Shortly after takeoff from runway 29, the left...  \n2018-08-04 00:00:00  The vintage aircraft crashed onto Piz Segnas m...  \n2018-09-28 00:00:00  The aircraft was approaching for a landing at ...  \n2018-10-29 00:00:00  The airliner crashed into the Jakarta Sea, 13 ...  \n2018-11-06 00:00:00  After taking off and reaching FL200, the crew ...  \n\n[1000 rows x 13 columns]",
      "text/html": "<div>\n<style scoped>\n    .dataframe tbody tr th:only-of-type {\n        vertical-align: middle;\n    }\n\n    .dataframe tbody tr th {\n        vertical-align: top;\n    }\n\n    .dataframe thead th {\n        text-align: right;\n    }\n</style>\n<table border=\"1\" class=\"dataframe\">\n  <thead>\n    <tr style=\"text-align: right;\">\n      <th></th>\n      <th>date</th>\n      <th>time</th>\n      <th>location</th>\n      <th>operator</th>\n      <th>flight_no</th>\n      <th>route</th>\n      <th>ac_type</th>\n      <th>registration</th>\n      <th>cn_ln</th>\n      <th>aboard</th>\n      <th>fatalities</th>\n      <th>ground</th>\n      <th>summary</th>\n    </tr>\n    <tr>\n      <th>date</th>\n      <th></th>\n      <th></th>\n      <th></th>\n      <th></th>\n      <th></th>\n      <th></th>\n      <th></th>\n      <th></th>\n      <th></th>\n      <th></th>\n      <th></th>\n      <th></th>\n      <th></th>\n    </tr>\n  </thead>\n  <tbody>\n    <tr>\n      <th>1998-07-30 15:58:00</th>\n      <td>1998-07-30 15:58:00</td>\n      <td>15:58</td>\n      <td>Near Quiberon, France</td>\n      <td>Proteus Air / Private</td>\n      <td>706</td>\n      <td>Lyon - Lorient</td>\n      <td>Beechcraft 1900D / Cessna 177</td>\n      <td>F-GSJM/F-GAJE</td>\n      <td>UE-238</td>\n      <td>15   (passengers:12  crew:3)</td>\n      <td>15   (passengers:12  crew:3)</td>\n      <td>0</td>\n      <td>Midair collision. The Beechcraft was on a flig...</td>\n    </tr>\n    <tr>\n      <th>1998-07-30 11:05:00</th>\n      <td>1998-07-30 11:05:00</td>\n      <td>11:05</td>\n      <td>Kochi, India</td>\n      <td>Alliance Airlines</td>\n      <td>503</td>\n      <td>Agathi - Kochi - Thiruvananthapuram</td>\n      <td>Dornier 228-201</td>\n      <td>VT-EJW</td>\n      <td>8075/2017</td>\n      <td>6   (passengers:3  crew:3)</td>\n      <td>6   (passengers:3  crew:3)</td>\n      <td>2</td>\n      <td>Shortly after taking off the plane pitched up,...</td>\n    </tr>\n    <tr>\n      <th>1998-08-04 17:58:00</th>\n      <td>1998-08-04 17:58:00</td>\n      <td>17:58</td>\n      <td>Kincolith, British Columbia, Canada</td>\n      <td>Harbour Air Seaplanes Ltd.</td>\n      <td>709</td>\n      <td>Prince Rupert - Kincolith</td>\n      <td>de Havilland Dash-2 Beaver</td>\n      <td>C-FOCJ</td>\n      <td>0039</td>\n      <td>5   (passengers:4  crew:1)</td>\n      <td>5   (passengers:4  crew:1)</td>\n      <td>0</td>\n      <td>The pilot made three low passes over the water...</td>\n    </tr>\n    <tr>\n      <th>1998-08-11 00:00:00</th>\n      <td>1998-08-11 00:00:00</td>\n      <td>?</td>\n      <td>Saurimo, Angola</td>\n      <td>Alada</td>\n      <td>?</td>\n      <td>?</td>\n      <td>Antonov An-12BP</td>\n      <td>D2-FAZ</td>\n      <td>?</td>\n      <td>13   (passengers:6  crew:7)</td>\n      <td>1   (passengers:0  crew:1)</td>\n      <td>0</td>\n      <td>Blew a tire while landing causing the plane to...</td>\n    </tr>\n    <tr>\n      <th>1998-08-19 16:40:00</th>\n      <td>1998-08-19 16:40:00</td>\n      <td>16:40</td>\n      <td>Foveaux Strait, New Zealand</td>\n      <td>Vincent Aviation</td>\n      <td>?</td>\n      <td>Stewart Island - Invercargill</td>\n      <td>Cessna 402C</td>\n      <td>ZK-VAC</td>\n      <td>402C0512</td>\n      <td>10   (passengers:9  crew:1)</td>\n      <td>5   (passengers:4  crew:1)</td>\n      <td>0</td>\n      <td>While en route, the aircraft experienced doubl...</td>\n    </tr>\n    <tr>\n      <th>...</th>\n      <td>...</td>\n      <td>...</td>\n      <td>...</td>\n      <td>...</td>\n      <td>...</td>\n      <td>...</td>\n      <td>...</td>\n      <td>...</td>\n      <td>...</td>\n      <td>...</td>\n      <td>...</td>\n      <td>...</td>\n      <td>...</td>\n    </tr>\n    <tr>\n      <th>2018-07-10 00:00:00</th>\n      <td>2018-07-10 00:00:00</td>\n      <td>0744</td>\n      <td>Pretoria, South Africa</td>\n      <td>Rovos Air</td>\n      <td>?</td>\n      <td>Test Flight</td>\n      <td>Convair CV-340</td>\n      <td>ZS-BRV</td>\n      <td>215</td>\n      <td>19   (passengers:16  crew:3)</td>\n      <td>1   (passengers:0  crew:1)</td>\n      <td>1</td>\n      <td>Shortly after takeoff from runway 29, the left...</td>\n    </tr>\n    <tr>\n      <th>2018-08-04 00:00:00</th>\n      <td>2018-08-04 00:00:00</td>\n      <td>1655</td>\n      <td>Flims, Switzerland</td>\n      <td>Ju Air</td>\n      <td>?</td>\n      <td>Locorno - Dubendorf</td>\n      <td>Junkers JU-52</td>\n      <td>HB-HOT</td>\n      <td>6595</td>\n      <td>20   (passengers:17  crew:3)</td>\n      <td>20   (passengers:17  crew:3)</td>\n      <td>1</td>\n      <td>The vintage aircraft crashed onto Piz Segnas m...</td>\n    </tr>\n    <tr>\n      <th>2018-09-28 00:00:00</th>\n      <td>2018-09-28 00:00:00</td>\n      <td>1010</td>\n      <td>Chuuk, Micronesia</td>\n      <td>Air Niugini</td>\n      <td>?</td>\n      <td>Pohnpei - Chuuk</td>\n      <td>Boeing 737-8BK</td>\n      <td>P2-PXE</td>\n      <td>33024/1688</td>\n      <td>47   (passengers:35  crew:12)</td>\n      <td>1   (passengers:1  crew:0)</td>\n      <td>0</td>\n      <td>The aircraft was approaching for a landing at ...</td>\n    </tr>\n    <tr>\n      <th>2018-10-29 00:00:00</th>\n      <td>2018-10-29 00:00:00</td>\n      <td>0631</td>\n      <td>Off Jakarta, Indonesia</td>\n      <td>Lion Air</td>\n      <td>610</td>\n      <td>Jakarta - Pangkal Pinang</td>\n      <td>Boeing 737-MAX 8</td>\n      <td>PK-LQP</td>\n      <td>43000/7058</td>\n      <td>189   (passengers:181  crew:8)</td>\n      <td>189   (passengers:181  crew:8)</td>\n      <td>0</td>\n      <td>The airliner crashed into the Jakarta Sea, 13 ...</td>\n    </tr>\n    <tr>\n      <th>2018-11-06 00:00:00</th>\n      <td>2018-11-06 00:00:00</td>\n      <td>0253</td>\n      <td>Georgetown, Guyana</td>\n      <td>Fly Jamaica Airways</td>\n      <td>?</td>\n      <td>Georgetown - Toronto</td>\n      <td>Boeing 757-N23</td>\n      <td>N524AT</td>\n      <td>30233/895</td>\n      <td>128   (passengers:120  crew:8)</td>\n      <td>1   (passengers:1  crew:0)</td>\n      <td>0</td>\n      <td>After taking off and reaching FL200, the crew ...</td>\n    </tr>\n  </tbody>\n</table>\n<p>1000 rows × 13 columns</p>\n</div>"
     },
     "execution_count": 100,
     "metadata": {},
     "output_type": "execute_result"
    }
   ],
   "source": [
    "\n",
    "last_crashes"
   ],
   "metadata": {
    "collapsed": false,
    "pycharm": {
     "name": "#%%\n"
    }
   }
  },
  {
   "cell_type": "code",
   "execution_count": 101,
   "outputs": [],
   "source": [
    "last_crashes.index = last_crashes.index.to_period('D')"
   ],
   "metadata": {
    "collapsed": false,
    "pycharm": {
     "name": "#%%\n"
    }
   }
  },
  {
   "cell_type": "code",
   "execution_count": 102,
   "outputs": [
    {
     "data": {
      "text/plain": "                           date   time                             location  \\\ndate                                                                          \n1998-07-30  1998-07-30 15:58:00  15:58                Near Quiberon, France   \n1998-07-30  1998-07-30 11:05:00  11:05                         Kochi, India   \n1998-08-04  1998-08-04 17:58:00  17:58  Kincolith, British Columbia, Canada   \n1998-08-11  1998-08-11 00:00:00      ?                      Saurimo, Angola   \n1998-08-19  1998-08-19 16:40:00  16:40          Foveaux Strait, New Zealand   \n\n                              operator flight_no  \\\ndate                                               \n1998-07-30       Proteus Air / Private       706   \n1998-07-30           Alliance Airlines       503   \n1998-08-04  Harbour Air Seaplanes Ltd.       709   \n1998-08-11                       Alada         ?   \n1998-08-19            Vincent Aviation         ?   \n\n                                          route  \\\ndate                                              \n1998-07-30                       Lyon - Lorient   \n1998-07-30  Agathi - Kochi - Thiruvananthapuram   \n1998-08-04            Prince Rupert - Kincolith   \n1998-08-11                                    ?   \n1998-08-19        Stewart Island - Invercargill   \n\n                                  ac_type   registration      cn_ln  \\\ndate                                                                  \n1998-07-30  Beechcraft 1900D / Cessna 177  F-GSJM/F-GAJE     UE-238   \n1998-07-30                Dornier 228-201         VT-EJW  8075/2017   \n1998-08-04     de Havilland Dash-2 Beaver         C-FOCJ       0039   \n1998-08-11                Antonov An-12BP         D2-FAZ          ?   \n1998-08-19                    Cessna 402C         ZK-VAC   402C0512   \n\n                                  aboard                    fatalities ground  \\\ndate                                                                            \n1998-07-30  15   (passengers:12  crew:3)  15   (passengers:12  crew:3)      0   \n1998-07-30    6   (passengers:3  crew:3)    6   (passengers:3  crew:3)      2   \n1998-08-04    5   (passengers:4  crew:1)    5   (passengers:4  crew:1)      0   \n1998-08-11   13   (passengers:6  crew:7)    1   (passengers:0  crew:1)      0   \n1998-08-19   10   (passengers:9  crew:1)    5   (passengers:4  crew:1)      0   \n\n                                                      summary  \ndate                                                           \n1998-07-30  Midair collision. The Beechcraft was on a flig...  \n1998-07-30  Shortly after taking off the plane pitched up,...  \n1998-08-04  The pilot made three low passes over the water...  \n1998-08-11  Blew a tire while landing causing the plane to...  \n1998-08-19  While en route, the aircraft experienced doubl...  ",
      "text/html": "<div>\n<style scoped>\n    .dataframe tbody tr th:only-of-type {\n        vertical-align: middle;\n    }\n\n    .dataframe tbody tr th {\n        vertical-align: top;\n    }\n\n    .dataframe thead th {\n        text-align: right;\n    }\n</style>\n<table border=\"1\" class=\"dataframe\">\n  <thead>\n    <tr style=\"text-align: right;\">\n      <th></th>\n      <th>date</th>\n      <th>time</th>\n      <th>location</th>\n      <th>operator</th>\n      <th>flight_no</th>\n      <th>route</th>\n      <th>ac_type</th>\n      <th>registration</th>\n      <th>cn_ln</th>\n      <th>aboard</th>\n      <th>fatalities</th>\n      <th>ground</th>\n      <th>summary</th>\n    </tr>\n    <tr>\n      <th>date</th>\n      <th></th>\n      <th></th>\n      <th></th>\n      <th></th>\n      <th></th>\n      <th></th>\n      <th></th>\n      <th></th>\n      <th></th>\n      <th></th>\n      <th></th>\n      <th></th>\n      <th></th>\n    </tr>\n  </thead>\n  <tbody>\n    <tr>\n      <th>1998-07-30</th>\n      <td>1998-07-30 15:58:00</td>\n      <td>15:58</td>\n      <td>Near Quiberon, France</td>\n      <td>Proteus Air / Private</td>\n      <td>706</td>\n      <td>Lyon - Lorient</td>\n      <td>Beechcraft 1900D / Cessna 177</td>\n      <td>F-GSJM/F-GAJE</td>\n      <td>UE-238</td>\n      <td>15   (passengers:12  crew:3)</td>\n      <td>15   (passengers:12  crew:3)</td>\n      <td>0</td>\n      <td>Midair collision. The Beechcraft was on a flig...</td>\n    </tr>\n    <tr>\n      <th>1998-07-30</th>\n      <td>1998-07-30 11:05:00</td>\n      <td>11:05</td>\n      <td>Kochi, India</td>\n      <td>Alliance Airlines</td>\n      <td>503</td>\n      <td>Agathi - Kochi - Thiruvananthapuram</td>\n      <td>Dornier 228-201</td>\n      <td>VT-EJW</td>\n      <td>8075/2017</td>\n      <td>6   (passengers:3  crew:3)</td>\n      <td>6   (passengers:3  crew:3)</td>\n      <td>2</td>\n      <td>Shortly after taking off the plane pitched up,...</td>\n    </tr>\n    <tr>\n      <th>1998-08-04</th>\n      <td>1998-08-04 17:58:00</td>\n      <td>17:58</td>\n      <td>Kincolith, British Columbia, Canada</td>\n      <td>Harbour Air Seaplanes Ltd.</td>\n      <td>709</td>\n      <td>Prince Rupert - Kincolith</td>\n      <td>de Havilland Dash-2 Beaver</td>\n      <td>C-FOCJ</td>\n      <td>0039</td>\n      <td>5   (passengers:4  crew:1)</td>\n      <td>5   (passengers:4  crew:1)</td>\n      <td>0</td>\n      <td>The pilot made three low passes over the water...</td>\n    </tr>\n    <tr>\n      <th>1998-08-11</th>\n      <td>1998-08-11 00:00:00</td>\n      <td>?</td>\n      <td>Saurimo, Angola</td>\n      <td>Alada</td>\n      <td>?</td>\n      <td>?</td>\n      <td>Antonov An-12BP</td>\n      <td>D2-FAZ</td>\n      <td>?</td>\n      <td>13   (passengers:6  crew:7)</td>\n      <td>1   (passengers:0  crew:1)</td>\n      <td>0</td>\n      <td>Blew a tire while landing causing the plane to...</td>\n    </tr>\n    <tr>\n      <th>1998-08-19</th>\n      <td>1998-08-19 16:40:00</td>\n      <td>16:40</td>\n      <td>Foveaux Strait, New Zealand</td>\n      <td>Vincent Aviation</td>\n      <td>?</td>\n      <td>Stewart Island - Invercargill</td>\n      <td>Cessna 402C</td>\n      <td>ZK-VAC</td>\n      <td>402C0512</td>\n      <td>10   (passengers:9  crew:1)</td>\n      <td>5   (passengers:4  crew:1)</td>\n      <td>0</td>\n      <td>While en route, the aircraft experienced doubl...</td>\n    </tr>\n  </tbody>\n</table>\n</div>"
     },
     "execution_count": 102,
     "metadata": {},
     "output_type": "execute_result"
    }
   ],
   "source": [
    "last_crashes.head()"
   ],
   "metadata": {
    "collapsed": false,
    "pycharm": {
     "name": "#%%\n"
    }
   }
  },
  {
   "cell_type": "code",
   "execution_count": 103,
   "outputs": [],
   "source": [
    "# last_crashes = last_crashes.resample('M',convention='end').mean()"
   ],
   "metadata": {
    "collapsed": false,
    "pycharm": {
     "name": "#%%\n"
    }
   }
  },
  {
   "cell_type": "code",
   "execution_count": 106,
   "outputs": [
    {
     "ename": "TypeError",
     "evalue": "No valid mtype could be identified for object of type <class 'pandas.core.series.Series'>. Errors returned are as follows, in format [mtype]: [error message] \r\npd.DataFrame: obj must be a pandas.DataFrame, found <class 'pandas.core.series.Series'>\r\npd.Series: obj should not be of 'object' dtype\r\nnp.ndarray: obj must be a numpy.ndarray, found <class 'pandas.core.series.Series'>\r\n",
     "output_type": "error",
     "traceback": [
      "\u001B[0;31m---------------------------------------------------------------------------\u001B[0m",
      "\u001B[0;31mTypeError\u001B[0m                                 Traceback (most recent call last)",
      "Input \u001B[0;32mIn [106]\u001B[0m, in \u001B[0;36m<cell line: 3>\u001B[0;34m()\u001B[0m\n\u001B[1;32m      1\u001B[0m \u001B[38;5;28;01mfrom\u001B[39;00m \u001B[38;5;21;01msktime\u001B[39;00m\u001B[38;5;21;01m.\u001B[39;00m\u001B[38;5;21;01mutils\u001B[39;00m\u001B[38;5;21;01m.\u001B[39;00m\u001B[38;5;21;01mplotting\u001B[39;00m \u001B[38;5;28;01mimport\u001B[39;00m plot_series\n\u001B[0;32m----> 3\u001B[0m \u001B[43mplot_series\u001B[49m\u001B[43m(\u001B[49m\u001B[43mlast_crashes\u001B[49m\u001B[43m[\u001B[49m\u001B[38;5;124;43m'\u001B[39;49m\u001B[38;5;124;43mdate\u001B[39;49m\u001B[38;5;124;43m'\u001B[39;49m\u001B[43m]\u001B[49m\u001B[43m)\u001B[49m\n",
      "File \u001B[0;32m~/PycharmProjects/1899_full_msu_courser_data_analisis/venv/lib/python3.8/site-packages/sktime/utils/plotting.py:53\u001B[0m, in \u001B[0;36mplot_series\u001B[0;34m(labels, markers, x_label, y_label, ax, *series)\u001B[0m\n\u001B[1;32m     50\u001B[0m     check_y(y)\n\u001B[1;32m     52\u001B[0m series \u001B[38;5;241m=\u001B[39m \u001B[38;5;28mlist\u001B[39m(series)\n\u001B[0;32m---> 53\u001B[0m series \u001B[38;5;241m=\u001B[39m [convert_to(y, \u001B[38;5;124m\"\u001B[39m\u001B[38;5;124mpd.Series\u001B[39m\u001B[38;5;124m\"\u001B[39m, \u001B[38;5;124m\"\u001B[39m\u001B[38;5;124mSeries\u001B[39m\u001B[38;5;124m\"\u001B[39m) \u001B[38;5;28;01mfor\u001B[39;00m y \u001B[38;5;129;01min\u001B[39;00m series]\n\u001B[1;32m     55\u001B[0m n_series \u001B[38;5;241m=\u001B[39m \u001B[38;5;28mlen\u001B[39m(series)\n\u001B[1;32m     56\u001B[0m _ax_kwarg_is_none \u001B[38;5;241m=\u001B[39m \u001B[38;5;28;01mTrue\u001B[39;00m \u001B[38;5;28;01mif\u001B[39;00m ax \u001B[38;5;129;01mis\u001B[39;00m \u001B[38;5;28;01mNone\u001B[39;00m \u001B[38;5;28;01melse\u001B[39;00m \u001B[38;5;28;01mFalse\u001B[39;00m\n",
      "File \u001B[0;32m~/PycharmProjects/1899_full_msu_courser_data_analisis/venv/lib/python3.8/site-packages/sktime/utils/plotting.py:53\u001B[0m, in \u001B[0;36m<listcomp>\u001B[0;34m(.0)\u001B[0m\n\u001B[1;32m     50\u001B[0m     check_y(y)\n\u001B[1;32m     52\u001B[0m series \u001B[38;5;241m=\u001B[39m \u001B[38;5;28mlist\u001B[39m(series)\n\u001B[0;32m---> 53\u001B[0m series \u001B[38;5;241m=\u001B[39m [\u001B[43mconvert_to\u001B[49m\u001B[43m(\u001B[49m\u001B[43my\u001B[49m\u001B[43m,\u001B[49m\u001B[43m \u001B[49m\u001B[38;5;124;43m\"\u001B[39;49m\u001B[38;5;124;43mpd.Series\u001B[39;49m\u001B[38;5;124;43m\"\u001B[39;49m\u001B[43m,\u001B[49m\u001B[43m \u001B[49m\u001B[38;5;124;43m\"\u001B[39;49m\u001B[38;5;124;43mSeries\u001B[39;49m\u001B[38;5;124;43m\"\u001B[39;49m\u001B[43m)\u001B[49m \u001B[38;5;28;01mfor\u001B[39;00m y \u001B[38;5;129;01min\u001B[39;00m series]\n\u001B[1;32m     55\u001B[0m n_series \u001B[38;5;241m=\u001B[39m \u001B[38;5;28mlen\u001B[39m(series)\n\u001B[1;32m     56\u001B[0m _ax_kwarg_is_none \u001B[38;5;241m=\u001B[39m \u001B[38;5;28;01mTrue\u001B[39;00m \u001B[38;5;28;01mif\u001B[39;00m ax \u001B[38;5;129;01mis\u001B[39;00m \u001B[38;5;28;01mNone\u001B[39;00m \u001B[38;5;28;01melse\u001B[39;00m \u001B[38;5;28;01mFalse\u001B[39;00m\n",
      "File \u001B[0;32m~/PycharmProjects/1899_full_msu_courser_data_analisis/venv/lib/python3.8/site-packages/sktime/datatypes/_convert.py:241\u001B[0m, in \u001B[0;36mconvert_to\u001B[0;34m(obj, to_type, as_scitype, store, store_behaviour)\u001B[0m\n\u001B[1;32m    238\u001B[0m     as_scitype \u001B[38;5;241m=\u001B[39m mtype_to_scitype(to_type)\n\u001B[1;32m    240\u001B[0m \u001B[38;5;66;03m# now further narrow down as_scitype by inference from the obj\u001B[39;00m\n\u001B[0;32m--> 241\u001B[0m from_type \u001B[38;5;241m=\u001B[39m \u001B[43minfer_mtype\u001B[49m\u001B[43m(\u001B[49m\u001B[43mobj\u001B[49m\u001B[38;5;241;43m=\u001B[39;49m\u001B[43mobj\u001B[49m\u001B[43m,\u001B[49m\u001B[43m \u001B[49m\u001B[43mas_scitype\u001B[49m\u001B[38;5;241;43m=\u001B[39;49m\u001B[43mas_scitype\u001B[49m\u001B[43m)\u001B[49m\n\u001B[1;32m    242\u001B[0m as_scitype \u001B[38;5;241m=\u001B[39m mtype_to_scitype(from_type)\n\u001B[1;32m    244\u001B[0m \u001B[38;5;66;03m# if to_type is a list, we do the following:\u001B[39;00m\n\u001B[1;32m    245\u001B[0m \u001B[38;5;66;03m# if on the list, then don't do a conversion (convert to from_type)\u001B[39;00m\n\u001B[1;32m    246\u001B[0m \u001B[38;5;66;03m# if not on the list, we find and convert to first mtype that has same scitype\u001B[39;00m\n",
      "File \u001B[0;32m~/PycharmProjects/1899_full_msu_courser_data_analisis/venv/lib/python3.8/site-packages/sktime/datatypes/_check.py:333\u001B[0m, in \u001B[0;36mmtype\u001B[0;34m(obj, as_scitype, exclude_mtypes)\u001B[0m\n\u001B[1;32m    328\u001B[0m         msg \u001B[38;5;241m+\u001B[39m\u001B[38;5;241m=\u001B[39m \u001B[38;5;124mf\u001B[39m\u001B[38;5;124m\"\u001B[39m\u001B[38;5;132;01m{\u001B[39;00mmtype\u001B[38;5;132;01m}\u001B[39;00m\u001B[38;5;124m: \u001B[39m\u001B[38;5;132;01m{\u001B[39;00merror\u001B[38;5;132;01m}\u001B[39;00m\u001B[38;5;130;01m\\r\u001B[39;00m\u001B[38;5;130;01m\\n\u001B[39;00m\u001B[38;5;124m\"\u001B[39m\n\u001B[1;32m    329\u001B[0m     msg \u001B[38;5;241m=\u001B[39m (\n\u001B[1;32m    330\u001B[0m         \u001B[38;5;124mf\u001B[39m\u001B[38;5;124m\"\u001B[39m\u001B[38;5;124mNo valid mtype could be identified for object of type \u001B[39m\u001B[38;5;132;01m{\u001B[39;00m\u001B[38;5;28mtype\u001B[39m(obj)\u001B[38;5;132;01m}\u001B[39;00m\u001B[38;5;124m. \u001B[39m\u001B[38;5;124m\"\u001B[39m\n\u001B[1;32m    331\u001B[0m         \u001B[38;5;124mf\u001B[39m\u001B[38;5;124m\"\u001B[39m\u001B[38;5;124mErrors returned are as follows, in format [mtype]: [error message] \u001B[39m\u001B[38;5;130;01m\\r\u001B[39;00m\u001B[38;5;130;01m\\n\u001B[39;00m\u001B[38;5;124m\"\u001B[39m\n\u001B[1;32m    332\u001B[0m     ) \u001B[38;5;241m+\u001B[39m msg\n\u001B[0;32m--> 333\u001B[0m     \u001B[38;5;28;01mraise\u001B[39;00m \u001B[38;5;167;01mTypeError\u001B[39;00m(msg)\n\u001B[1;32m    335\u001B[0m \u001B[38;5;28;01mreturn\u001B[39;00m mtypes_positive[\u001B[38;5;241m0\u001B[39m]\n",
      "\u001B[0;31mTypeError\u001B[0m: No valid mtype could be identified for object of type <class 'pandas.core.series.Series'>. Errors returned are as follows, in format [mtype]: [error message] \r\npd.DataFrame: obj must be a pandas.DataFrame, found <class 'pandas.core.series.Series'>\r\npd.Series: obj should not be of 'object' dtype\r\nnp.ndarray: obj must be a numpy.ndarray, found <class 'pandas.core.series.Series'>\r\n"
     ]
    }
   ],
   "source": [
    "from sktime.utils.plotting import plot_series\n",
    "\n",
    "plot_series(last_crashes['date'])"
   ],
   "metadata": {
    "collapsed": false,
    "pycharm": {
     "name": "#%%\n"
    }
   }
  },
  {
   "cell_type": "code",
   "execution_count": 103,
   "outputs": [],
   "source": [],
   "metadata": {
    "collapsed": false,
    "pycharm": {
     "name": "#%%\n"
    }
   }
  }
 ],
 "metadata": {
  "kernelspec": {
   "display_name": "Python 3",
   "language": "python",
   "name": "python3"
  },
  "language_info": {
   "codemirror_mode": {
    "name": "ipython",
    "version": 2
   },
   "file_extension": ".py",
   "mimetype": "text/x-python",
   "name": "python",
   "nbconvert_exporter": "python",
   "pygments_lexer": "ipython2",
   "version": "2.7.6"
  }
 },
 "nbformat": 4,
 "nbformat_minor": 0
}