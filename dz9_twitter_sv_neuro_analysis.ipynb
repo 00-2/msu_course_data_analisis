{
 "cells": [
  {
   "cell_type": "code",
   "execution_count": null,
   "metadata": {
    "collapsed": true
   },
   "outputs": [],
   "source": [
    "# тк твиттер заблокирован, то будем получать посты с группы вк\n",
    "\n",
    "# wall.get"
   ]
  },
  {
   "cell_type": "code",
   "execution_count": null,
   "outputs": [],
   "source": [],
   "metadata": {
    "collapsed": false,
    "pycharm": {
     "name": "#%%\n"
    }
   }
  },
  {
   "cell_type": "code",
   "execution_count": 1,
   "outputs": [
    {
     "name": "stdout",
     "output_type": "stream",
     "text": [
      "Viva india\n",
      "Sentiment(polarity=0.0, subjectivity=0.0)\n",
      "Fuck india\n",
      "Sentiment(polarity=-0.4, subjectivity=0.6)\n",
      "Love india\n",
      "Sentiment(polarity=0.5, subjectivity=0.6)\n"
     ]
    }
   ],
   "source": [
    "import tweepy\n",
    "\n",
    "from textblob import TextBlob\n",
    "# consumer_key =\n",
    "# consumer_secret =\n",
    "# access_key=\n",
    "# access_secret =\n",
    "# auth = tweepy.OAuthHandler(consumer_key, consumer_secret)\n",
    "# auth.set_access_token(access_key, access_secret)\n",
    "# api = tweepy.API(auth,wait_on_rate_limit=True)\n",
    "# pm_tweets = api.search(\"Индия\", count = 10)\n",
    "pm_tweets = ['Viva india', 'Fuck india', 'Love india']\n",
    "for tweet in pm_tweets:\n",
    "    print(tweet)\n",
    "    analysis = TextBlob(tweet)\n",
    "    print(analysis.sentiment)"
   ],
   "metadata": {
    "collapsed": false,
    "pycharm": {
     "name": "#%%\n"
    }
   }
  },
  {
   "cell_type": "code",
   "execution_count": null,
   "outputs": [],
   "source": [],
   "metadata": {
    "collapsed": false,
    "pycharm": {
     "name": "#%%\n"
    }
   }
  }
 ],
 "metadata": {
  "kernelspec": {
   "display_name": "Python 3",
   "language": "python",
   "name": "python3"
  },
  "language_info": {
   "codemirror_mode": {
    "name": "ipython",
    "version": 2
   },
   "file_extension": ".py",
   "mimetype": "text/x-python",
   "name": "python",
   "nbconvert_exporter": "python",
   "pygments_lexer": "ipython2",
   "version": "2.7.6"
  }
 },
 "nbformat": 4,
 "nbformat_minor": 0
}