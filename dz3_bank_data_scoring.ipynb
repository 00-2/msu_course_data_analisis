{
 "cells": [
  {
   "cell_type": "code",
   "execution_count": 1,
   "metadata": {
    "collapsed": true
   },
   "outputs": [],
   "source": [
    "import pandas as pd\n",
    "import numpy as np\n",
    "import seaborn as sns\n",
    "import matplotlib.pyplot as plt"
   ]
  },
  {
   "cell_type": "code",
   "execution_count": 2,
   "outputs": [],
   "source": [
    "telco = pd.read_csv('./data/credit_train.csv')"
   ],
   "metadata": {
    "collapsed": false,
    "pycharm": {
     "name": "#%%\n"
    }
   }
  },
  {
   "cell_type": "markdown",
   "source": [
    "Подготовка данных к моделированию"
   ],
   "metadata": {
    "collapsed": false
   }
  },
  {
   "cell_type": "code",
   "execution_count": 3,
   "outputs": [
    {
     "name": "stdout",
     "output_type": "stream",
     "text": [
      "<class 'pandas.core.frame.DataFrame'>\n",
      "RangeIndex: 100000 entries, 0 to 99999\n",
      "Data columns (total 19 columns):\n",
      " #   Column                        Non-Null Count   Dtype  \n",
      "---  ------                        --------------   -----  \n",
      " 0   Loan ID                       100000 non-null  object \n",
      " 1   Customer ID                   100000 non-null  object \n",
      " 2   Loan Status                   100000 non-null  object \n",
      " 3   Current Loan Amount           100000 non-null  int64  \n",
      " 4   Term                          100000 non-null  object \n",
      " 5   Credit Score                  80846 non-null   float64\n",
      " 6   Annual Income                 80846 non-null   float64\n",
      " 7   Years in current job          95778 non-null   object \n",
      " 8   Home Ownership                100000 non-null  object \n",
      " 9   Purpose                       100000 non-null  object \n",
      " 10  Monthly Debt                  100000 non-null  float64\n",
      " 11  Years of Credit History       100000 non-null  float64\n",
      " 12  Months since last delinquent  46859 non-null   float64\n",
      " 13  Number of Open Accounts       100000 non-null  int64  \n",
      " 14  Number of Credit Problems     100000 non-null  int64  \n",
      " 15  Current Credit Balance        100000 non-null  int64  \n",
      " 16  Maximum Open Credit           99998 non-null   float64\n",
      " 17  Bankruptcies                  99796 non-null   float64\n",
      " 18  Tax Liens                     99990 non-null   float64\n",
      "dtypes: float64(8), int64(4), object(7)\n",
      "memory usage: 14.5+ MB\n"
     ]
    }
   ],
   "source": [
    "telco.info()"
   ],
   "metadata": {
    "collapsed": false,
    "pycharm": {
     "name": "#%%\n"
    }
   }
  },
  {
   "cell_type": "code",
   "execution_count": 4,
   "outputs": [
    {
     "data": {
      "text/plain": "                                    Loan ID  \\\n99990  686017b3-dc24-4f8a-af92-0bd077452d3d   \n99991  326d0f2b-015f-480e-90e9-9c0d7d307196   \n99992  c568adaa-16f9-43d3-b522-8532fb57cb16   \n99993  79b81158-5d55-4766-8ad6-ebcd683f7d59   \n99994  8506a4e9-af7d-47d2-a1bf-7ea2c41858f0   \n99995  3f94c18c-ba8f-45d0-8610-88a684a410a9   \n99996  06eba04f-58fc-424a-b666-ed72aa008900   \n99997  e1cb4050-eff5-4bdb-a1b0-aabd3f7eaac7   \n99998  81ab928b-d1a5-4523-9a3c-271ebb01b4fb   \n99999  c63916c6-6d46-47a9-949a-51d09af4414f   \n\n                                Customer ID Loan Status  Current Loan Amount  \\\n99990  1a583add-21ba-410f-9c42-757c4ed19322  Fully Paid             99999999   \n99991  ed9a397b-8a72-45c2-92de-b91f990a623d  Fully Paid               244266   \n99992  cbb29fd6-e418-4f09-a4bd-4de83428caab  Fully Paid                48796   \n99993  e45e8dc4-05ad-4efe-92cc-784a6d5ef61a  Fully Paid                44484   \n99994  be67200e-1ef1-4b63-86a6-2bf27d3c704d  Fully Paid               210584   \n99995  2da51983-cfef-4b8f-a733-5dfaf69e9281  Fully Paid               147070   \n99996  77f2252a-b7d1-4b07-a746-1202a8304290  Fully Paid             99999999   \n99997  2ced5f10-bd60-4a11-9134-cadce4e7b0a3  Fully Paid               103136   \n99998  3e45ffda-99fd-4cfc-b8b8-446f4a505f36  Fully Paid               530332   \n99999  1b3014be-5c07-4d41-abe7-44573c375886  Fully Paid             99999999   \n\n             Term  Credit Score  Annual Income Years in current job  \\\n99990  Short Term         742.0      1190046.0             < 1 year   \n99991  Short Term         714.0      1619047.0            10+ years   \n99992  Short Term           NaN            NaN              4 years   \n99993  Short Term         717.0      1152426.0            10+ years   \n99994  Short Term         719.0       783389.0               1 year   \n99995  Short Term         725.0       475437.0              7 years   \n99996  Short Term         732.0      1289416.0               1 year   \n99997  Short Term         742.0      1150545.0              6 years   \n99998  Short Term         746.0      1717524.0              9 years   \n99999  Short Term         743.0       935180.0                  NaN   \n\n      Home Ownership             Purpose  Monthly Debt  \\\n99990           Rent               other      11969.81   \n99991           Rent  Debt Consolidation       4290.39   \n99992  Home Mortgage      major_purchase       8298.63   \n99993  Home Mortgage      small_business       6280.64   \n99994  Home Mortgage               Other       3727.61   \n99995       Own Home               other       2202.86   \n99996           Rent  Debt Consolidation      13109.05   \n99997           Rent  Debt Consolidation       7315.57   \n99998           Rent  Debt Consolidation       9890.07   \n99999       Own Home  Debt Consolidation       9118.10   \n\n       Years of Credit History  Months since last delinquent  \\\n99990                     20.1                          16.0   \n99991                     21.4                           NaN   \n99992                      8.3                           NaN   \n99993                     21.0                          12.0   \n99994                     17.4                          18.0   \n99995                     22.3                           NaN   \n99996                      9.4                          21.0   \n99997                     18.8                          18.0   \n99998                     15.0                           NaN   \n99999                     13.0                           NaN   \n\n       Number of Open Accounts  Number of Credit Problems  \\\n99990                        9                          0   \n99991                        5                          1   \n99992                        9                          0   \n99993                        6                          0   \n99994                        6                          0   \n99995                        5                          0   \n99996                       22                          0   \n99997                       12                          1   \n99998                        8                          0   \n99999                        4                          1   \n\n       Current Credit Balance  Maximum Open Credit  Bankruptcies  Tax Liens  \n99990                   37392             134442.0           0.0        0.0  \n99991                  132012             242660.0           1.0        0.0  \n99992                   87875             239404.0           0.0        0.0  \n99993                  961932                  0.0           0.0        0.0  \n99994                     456             259160.0           0.0        0.0  \n99995                   47766             658548.0           0.0        0.0  \n99996                  153045             509234.0           0.0        0.0  \n99997                  109554             537548.0           1.0        0.0  \n99998                  404225             738254.0           0.0        0.0  \n99999                   45600              91014.0           1.0        0.0  ",
      "text/html": "<div>\n<style scoped>\n    .dataframe tbody tr th:only-of-type {\n        vertical-align: middle;\n    }\n\n    .dataframe tbody tr th {\n        vertical-align: top;\n    }\n\n    .dataframe thead th {\n        text-align: right;\n    }\n</style>\n<table border=\"1\" class=\"dataframe\">\n  <thead>\n    <tr style=\"text-align: right;\">\n      <th></th>\n      <th>Loan ID</th>\n      <th>Customer ID</th>\n      <th>Loan Status</th>\n      <th>Current Loan Amount</th>\n      <th>Term</th>\n      <th>Credit Score</th>\n      <th>Annual Income</th>\n      <th>Years in current job</th>\n      <th>Home Ownership</th>\n      <th>Purpose</th>\n      <th>Monthly Debt</th>\n      <th>Years of Credit History</th>\n      <th>Months since last delinquent</th>\n      <th>Number of Open Accounts</th>\n      <th>Number of Credit Problems</th>\n      <th>Current Credit Balance</th>\n      <th>Maximum Open Credit</th>\n      <th>Bankruptcies</th>\n      <th>Tax Liens</th>\n    </tr>\n  </thead>\n  <tbody>\n    <tr>\n      <th>99990</th>\n      <td>686017b3-dc24-4f8a-af92-0bd077452d3d</td>\n      <td>1a583add-21ba-410f-9c42-757c4ed19322</td>\n      <td>Fully Paid</td>\n      <td>99999999</td>\n      <td>Short Term</td>\n      <td>742.0</td>\n      <td>1190046.0</td>\n      <td>&lt; 1 year</td>\n      <td>Rent</td>\n      <td>other</td>\n      <td>11969.81</td>\n      <td>20.1</td>\n      <td>16.0</td>\n      <td>9</td>\n      <td>0</td>\n      <td>37392</td>\n      <td>134442.0</td>\n      <td>0.0</td>\n      <td>0.0</td>\n    </tr>\n    <tr>\n      <th>99991</th>\n      <td>326d0f2b-015f-480e-90e9-9c0d7d307196</td>\n      <td>ed9a397b-8a72-45c2-92de-b91f990a623d</td>\n      <td>Fully Paid</td>\n      <td>244266</td>\n      <td>Short Term</td>\n      <td>714.0</td>\n      <td>1619047.0</td>\n      <td>10+ years</td>\n      <td>Rent</td>\n      <td>Debt Consolidation</td>\n      <td>4290.39</td>\n      <td>21.4</td>\n      <td>NaN</td>\n      <td>5</td>\n      <td>1</td>\n      <td>132012</td>\n      <td>242660.0</td>\n      <td>1.0</td>\n      <td>0.0</td>\n    </tr>\n    <tr>\n      <th>99992</th>\n      <td>c568adaa-16f9-43d3-b522-8532fb57cb16</td>\n      <td>cbb29fd6-e418-4f09-a4bd-4de83428caab</td>\n      <td>Fully Paid</td>\n      <td>48796</td>\n      <td>Short Term</td>\n      <td>NaN</td>\n      <td>NaN</td>\n      <td>4 years</td>\n      <td>Home Mortgage</td>\n      <td>major_purchase</td>\n      <td>8298.63</td>\n      <td>8.3</td>\n      <td>NaN</td>\n      <td>9</td>\n      <td>0</td>\n      <td>87875</td>\n      <td>239404.0</td>\n      <td>0.0</td>\n      <td>0.0</td>\n    </tr>\n    <tr>\n      <th>99993</th>\n      <td>79b81158-5d55-4766-8ad6-ebcd683f7d59</td>\n      <td>e45e8dc4-05ad-4efe-92cc-784a6d5ef61a</td>\n      <td>Fully Paid</td>\n      <td>44484</td>\n      <td>Short Term</td>\n      <td>717.0</td>\n      <td>1152426.0</td>\n      <td>10+ years</td>\n      <td>Home Mortgage</td>\n      <td>small_business</td>\n      <td>6280.64</td>\n      <td>21.0</td>\n      <td>12.0</td>\n      <td>6</td>\n      <td>0</td>\n      <td>961932</td>\n      <td>0.0</td>\n      <td>0.0</td>\n      <td>0.0</td>\n    </tr>\n    <tr>\n      <th>99994</th>\n      <td>8506a4e9-af7d-47d2-a1bf-7ea2c41858f0</td>\n      <td>be67200e-1ef1-4b63-86a6-2bf27d3c704d</td>\n      <td>Fully Paid</td>\n      <td>210584</td>\n      <td>Short Term</td>\n      <td>719.0</td>\n      <td>783389.0</td>\n      <td>1 year</td>\n      <td>Home Mortgage</td>\n      <td>Other</td>\n      <td>3727.61</td>\n      <td>17.4</td>\n      <td>18.0</td>\n      <td>6</td>\n      <td>0</td>\n      <td>456</td>\n      <td>259160.0</td>\n      <td>0.0</td>\n      <td>0.0</td>\n    </tr>\n    <tr>\n      <th>99995</th>\n      <td>3f94c18c-ba8f-45d0-8610-88a684a410a9</td>\n      <td>2da51983-cfef-4b8f-a733-5dfaf69e9281</td>\n      <td>Fully Paid</td>\n      <td>147070</td>\n      <td>Short Term</td>\n      <td>725.0</td>\n      <td>475437.0</td>\n      <td>7 years</td>\n      <td>Own Home</td>\n      <td>other</td>\n      <td>2202.86</td>\n      <td>22.3</td>\n      <td>NaN</td>\n      <td>5</td>\n      <td>0</td>\n      <td>47766</td>\n      <td>658548.0</td>\n      <td>0.0</td>\n      <td>0.0</td>\n    </tr>\n    <tr>\n      <th>99996</th>\n      <td>06eba04f-58fc-424a-b666-ed72aa008900</td>\n      <td>77f2252a-b7d1-4b07-a746-1202a8304290</td>\n      <td>Fully Paid</td>\n      <td>99999999</td>\n      <td>Short Term</td>\n      <td>732.0</td>\n      <td>1289416.0</td>\n      <td>1 year</td>\n      <td>Rent</td>\n      <td>Debt Consolidation</td>\n      <td>13109.05</td>\n      <td>9.4</td>\n      <td>21.0</td>\n      <td>22</td>\n      <td>0</td>\n      <td>153045</td>\n      <td>509234.0</td>\n      <td>0.0</td>\n      <td>0.0</td>\n    </tr>\n    <tr>\n      <th>99997</th>\n      <td>e1cb4050-eff5-4bdb-a1b0-aabd3f7eaac7</td>\n      <td>2ced5f10-bd60-4a11-9134-cadce4e7b0a3</td>\n      <td>Fully Paid</td>\n      <td>103136</td>\n      <td>Short Term</td>\n      <td>742.0</td>\n      <td>1150545.0</td>\n      <td>6 years</td>\n      <td>Rent</td>\n      <td>Debt Consolidation</td>\n      <td>7315.57</td>\n      <td>18.8</td>\n      <td>18.0</td>\n      <td>12</td>\n      <td>1</td>\n      <td>109554</td>\n      <td>537548.0</td>\n      <td>1.0</td>\n      <td>0.0</td>\n    </tr>\n    <tr>\n      <th>99998</th>\n      <td>81ab928b-d1a5-4523-9a3c-271ebb01b4fb</td>\n      <td>3e45ffda-99fd-4cfc-b8b8-446f4a505f36</td>\n      <td>Fully Paid</td>\n      <td>530332</td>\n      <td>Short Term</td>\n      <td>746.0</td>\n      <td>1717524.0</td>\n      <td>9 years</td>\n      <td>Rent</td>\n      <td>Debt Consolidation</td>\n      <td>9890.07</td>\n      <td>15.0</td>\n      <td>NaN</td>\n      <td>8</td>\n      <td>0</td>\n      <td>404225</td>\n      <td>738254.0</td>\n      <td>0.0</td>\n      <td>0.0</td>\n    </tr>\n    <tr>\n      <th>99999</th>\n      <td>c63916c6-6d46-47a9-949a-51d09af4414f</td>\n      <td>1b3014be-5c07-4d41-abe7-44573c375886</td>\n      <td>Fully Paid</td>\n      <td>99999999</td>\n      <td>Short Term</td>\n      <td>743.0</td>\n      <td>935180.0</td>\n      <td>NaN</td>\n      <td>Own Home</td>\n      <td>Debt Consolidation</td>\n      <td>9118.10</td>\n      <td>13.0</td>\n      <td>NaN</td>\n      <td>4</td>\n      <td>1</td>\n      <td>45600</td>\n      <td>91014.0</td>\n      <td>1.0</td>\n      <td>0.0</td>\n    </tr>\n  </tbody>\n</table>\n</div>"
     },
     "execution_count": 4,
     "metadata": {},
     "output_type": "execute_result"
    }
   ],
   "source": [
    "# возьмем последние 10 элементов\n",
    "telco.tail(10)"
   ],
   "metadata": {
    "collapsed": false,
    "pycharm": {
     "name": "#%%\n"
    }
   }
  },
  {
   "cell_type": "code",
   "execution_count": 5,
   "outputs": [
    {
     "data": {
      "text/plain": "Loan ID                             0\nCurrent Credit Balance              0\nNumber of Credit Problems           0\nNumber of Open Accounts             0\nYears of Credit History             0\nMonthly Debt                        0\nHome Ownership                      0\nPurpose                             0\nTerm                                0\nCurrent Loan Amount                 0\nLoan Status                         0\nCustomer ID                         0\nMaximum Open Credit                 2\nTax Liens                          10\nBankruptcies                      204\nYears in current job             4222\nAnnual Income                   19154\nCredit Score                    19154\nMonths since last delinquent    53141\ndtype: int64"
     },
     "execution_count": 5,
     "metadata": {},
     "output_type": "execute_result"
    }
   ],
   "source": [
    "# количество пропущенных = 0\n",
    "telco.isnull().sum().sort_values()"
   ],
   "metadata": {
    "collapsed": false,
    "pycharm": {
     "name": "#%%\n"
    }
   }
  },
  {
   "cell_type": "markdown",
   "source": [],
   "metadata": {
    "collapsed": false,
    "pycharm": {
     "name": "#%% md\n"
    }
   }
  },
  {
   "cell_type": "code",
   "execution_count": 6,
   "outputs": [
    {
     "data": {
      "text/plain": "                                    Loan ID  \\\n79169  50118373-dd2c-402d-918b-a9e49d921eac   \n81961  95ee0fe0-7e24-4b6d-bd08-797164f72ceb   \n32159  d9cd4ffd-b274-466e-9c6a-6561f09721fe   \n97279  0f5850ad-1c8d-4145-b796-7eead9ff4cbb   \n65822  98c570ef-75a6-40d9-915b-679c5a420178   \n...                                     ...   \n38301  9ad4bbbb-f6c8-489b-bf72-59e1b2540d3f   \n87728  37bfacc7-81bd-4287-986e-3307e3a4f6b9   \n91606  4e69afa3-df35-40a5-bfe0-5b261a007c8d   \n55736  8d59aa00-d111-4439-9b32-82cc5ab5b940   \n59266  a572e23e-fc67-4d7a-92d0-3cad85ec0a47   \n\n                                Customer ID Loan Status  Current Loan Amount  \\\n79169  66a2647a-daec-494b-8588-2c846bba495f  Fully Paid                15422   \n81961  cf0027fa-0825-4f09-8421-9d5cf90f558a  Fully Paid                21450   \n32159  b415677e-0c22-4ba5-a069-51045a21e351  Fully Paid                21472   \n97279  9747b64f-ad09-42f6-87ac-c34192972a92  Fully Paid                21516   \n65822  1507af8f-156a-48c4-9882-eb9f2380d4e7  Fully Paid                21582   \n...                                     ...         ...                  ...   \n38301  b5f3fb8d-95f7-4df9-8180-e5ee8a46de70  Fully Paid               789096   \n87728  e7a64746-58be-4a10-89e9-35705e412eab  Fully Paid               789096   \n91606  222ca98a-2239-4ce1-b3bf-2fd2b75175f8  Fully Paid               789096   \n55736  4703635a-4418-4e97-bc74-30320a99eca5  Fully Paid               789184   \n59266  118d9c17-dd07-4d27-85fd-93675fcddadc  Fully Paid               789184   \n\n             Term  Credit Score  Annual Income Years in current job  \\\n79169  Short Term         718.0       361760.0             < 1 year   \n81961  Short Term         713.0       463182.0              6 years   \n32159  Short Term         718.0      1131184.0            10+ years   \n97279  Short Term         680.0       754281.0                  NaN   \n65822  Short Term         723.0      1118454.0            10+ years   \n...           ...           ...            ...                  ...   \n38301   Long Term         681.0      2433900.0              6 years   \n87728   Long Term         723.0      2433900.0            10+ years   \n91606   Long Term         640.0      1522641.0               1 year   \n55736   Long Term         716.0      1596798.0              3 years   \n59266   Long Term         685.0      4381457.0              2 years   \n\n      Home Ownership             Purpose  Monthly Debt  \\\n79169           Rent  Debt Consolidation       3738.06   \n81961           Rent       Medical Bills      13161.87   \n32159  Home Mortgage               other      23095.07   \n97279           Rent               other      15965.51   \n65822  Home Mortgage  Debt Consolidation      23767.10   \n...              ...                 ...           ...   \n38301  Home Mortgage  Debt Consolidation      39956.43   \n87728  Home Mortgage  Debt Consolidation      54965.67   \n91606  Home Mortgage  Debt Consolidation      30326.09   \n55736  Home Mortgage  Debt Consolidation      44710.23   \n59266  Home Mortgage  Debt Consolidation      46370.26   \n\n       Years of Credit History  Months since last delinquent  \\\n79169                     11.6                           NaN   \n81961                      7.1                           NaN   \n32159                     27.1                          15.0   \n97279                     41.8                           7.0   \n65822                     27.7                           9.0   \n...                        ...                           ...   \n38301                     28.1                           NaN   \n87728                     33.5                           NaN   \n91606                     21.0                          13.0   \n55736                     28.5                           NaN   \n59266                     17.8                           NaN   \n\n       Number of Open Accounts  Number of Credit Problems  \\\n79169                        4                          0   \n81961                       10                          0   \n32159                       14                          0   \n97279                        6                          0   \n65822                        9                          0   \n...                        ...                        ...   \n38301                       17                          0   \n87728                       13                          0   \n91606                       16                          0   \n55736                       15                          0   \n59266                       17                          0   \n\n       Current Credit Balance  Maximum Open Credit  Bankruptcies  Tax Liens  \n79169                       0                  0.0           0.0        0.0  \n81961                   83657             160886.0           0.0        0.0  \n32159                  547029            1170796.0           0.0        0.0  \n97279                   80997             162822.0           0.0        0.0  \n65822                   18810             183018.0           0.0        0.0  \n...                       ...                  ...           ...        ...  \n38301                 2191726            2589576.0           0.0        0.0  \n87728                  252225             605946.0           0.0        0.0  \n91606                  478401             768306.0           0.0        0.0  \n55736                  921139            1760044.0           0.0        0.0  \n59266                  694089            1096414.0           0.0        0.0  \n\n[10215 rows x 19 columns]",
      "text/html": "<div>\n<style scoped>\n    .dataframe tbody tr th:only-of-type {\n        vertical-align: middle;\n    }\n\n    .dataframe tbody tr th {\n        vertical-align: top;\n    }\n\n    .dataframe thead th {\n        text-align: right;\n    }\n</style>\n<table border=\"1\" class=\"dataframe\">\n  <thead>\n    <tr style=\"text-align: right;\">\n      <th></th>\n      <th>Loan ID</th>\n      <th>Customer ID</th>\n      <th>Loan Status</th>\n      <th>Current Loan Amount</th>\n      <th>Term</th>\n      <th>Credit Score</th>\n      <th>Annual Income</th>\n      <th>Years in current job</th>\n      <th>Home Ownership</th>\n      <th>Purpose</th>\n      <th>Monthly Debt</th>\n      <th>Years of Credit History</th>\n      <th>Months since last delinquent</th>\n      <th>Number of Open Accounts</th>\n      <th>Number of Credit Problems</th>\n      <th>Current Credit Balance</th>\n      <th>Maximum Open Credit</th>\n      <th>Bankruptcies</th>\n      <th>Tax Liens</th>\n    </tr>\n  </thead>\n  <tbody>\n    <tr>\n      <th>79169</th>\n      <td>50118373-dd2c-402d-918b-a9e49d921eac</td>\n      <td>66a2647a-daec-494b-8588-2c846bba495f</td>\n      <td>Fully Paid</td>\n      <td>15422</td>\n      <td>Short Term</td>\n      <td>718.0</td>\n      <td>361760.0</td>\n      <td>&lt; 1 year</td>\n      <td>Rent</td>\n      <td>Debt Consolidation</td>\n      <td>3738.06</td>\n      <td>11.6</td>\n      <td>NaN</td>\n      <td>4</td>\n      <td>0</td>\n      <td>0</td>\n      <td>0.0</td>\n      <td>0.0</td>\n      <td>0.0</td>\n    </tr>\n    <tr>\n      <th>81961</th>\n      <td>95ee0fe0-7e24-4b6d-bd08-797164f72ceb</td>\n      <td>cf0027fa-0825-4f09-8421-9d5cf90f558a</td>\n      <td>Fully Paid</td>\n      <td>21450</td>\n      <td>Short Term</td>\n      <td>713.0</td>\n      <td>463182.0</td>\n      <td>6 years</td>\n      <td>Rent</td>\n      <td>Medical Bills</td>\n      <td>13161.87</td>\n      <td>7.1</td>\n      <td>NaN</td>\n      <td>10</td>\n      <td>0</td>\n      <td>83657</td>\n      <td>160886.0</td>\n      <td>0.0</td>\n      <td>0.0</td>\n    </tr>\n    <tr>\n      <th>32159</th>\n      <td>d9cd4ffd-b274-466e-9c6a-6561f09721fe</td>\n      <td>b415677e-0c22-4ba5-a069-51045a21e351</td>\n      <td>Fully Paid</td>\n      <td>21472</td>\n      <td>Short Term</td>\n      <td>718.0</td>\n      <td>1131184.0</td>\n      <td>10+ years</td>\n      <td>Home Mortgage</td>\n      <td>other</td>\n      <td>23095.07</td>\n      <td>27.1</td>\n      <td>15.0</td>\n      <td>14</td>\n      <td>0</td>\n      <td>547029</td>\n      <td>1170796.0</td>\n      <td>0.0</td>\n      <td>0.0</td>\n    </tr>\n    <tr>\n      <th>97279</th>\n      <td>0f5850ad-1c8d-4145-b796-7eead9ff4cbb</td>\n      <td>9747b64f-ad09-42f6-87ac-c34192972a92</td>\n      <td>Fully Paid</td>\n      <td>21516</td>\n      <td>Short Term</td>\n      <td>680.0</td>\n      <td>754281.0</td>\n      <td>NaN</td>\n      <td>Rent</td>\n      <td>other</td>\n      <td>15965.51</td>\n      <td>41.8</td>\n      <td>7.0</td>\n      <td>6</td>\n      <td>0</td>\n      <td>80997</td>\n      <td>162822.0</td>\n      <td>0.0</td>\n      <td>0.0</td>\n    </tr>\n    <tr>\n      <th>65822</th>\n      <td>98c570ef-75a6-40d9-915b-679c5a420178</td>\n      <td>1507af8f-156a-48c4-9882-eb9f2380d4e7</td>\n      <td>Fully Paid</td>\n      <td>21582</td>\n      <td>Short Term</td>\n      <td>723.0</td>\n      <td>1118454.0</td>\n      <td>10+ years</td>\n      <td>Home Mortgage</td>\n      <td>Debt Consolidation</td>\n      <td>23767.10</td>\n      <td>27.7</td>\n      <td>9.0</td>\n      <td>9</td>\n      <td>0</td>\n      <td>18810</td>\n      <td>183018.0</td>\n      <td>0.0</td>\n      <td>0.0</td>\n    </tr>\n    <tr>\n      <th>...</th>\n      <td>...</td>\n      <td>...</td>\n      <td>...</td>\n      <td>...</td>\n      <td>...</td>\n      <td>...</td>\n      <td>...</td>\n      <td>...</td>\n      <td>...</td>\n      <td>...</td>\n      <td>...</td>\n      <td>...</td>\n      <td>...</td>\n      <td>...</td>\n      <td>...</td>\n      <td>...</td>\n      <td>...</td>\n      <td>...</td>\n      <td>...</td>\n    </tr>\n    <tr>\n      <th>38301</th>\n      <td>9ad4bbbb-f6c8-489b-bf72-59e1b2540d3f</td>\n      <td>b5f3fb8d-95f7-4df9-8180-e5ee8a46de70</td>\n      <td>Fully Paid</td>\n      <td>789096</td>\n      <td>Long Term</td>\n      <td>681.0</td>\n      <td>2433900.0</td>\n      <td>6 years</td>\n      <td>Home Mortgage</td>\n      <td>Debt Consolidation</td>\n      <td>39956.43</td>\n      <td>28.1</td>\n      <td>NaN</td>\n      <td>17</td>\n      <td>0</td>\n      <td>2191726</td>\n      <td>2589576.0</td>\n      <td>0.0</td>\n      <td>0.0</td>\n    </tr>\n    <tr>\n      <th>87728</th>\n      <td>37bfacc7-81bd-4287-986e-3307e3a4f6b9</td>\n      <td>e7a64746-58be-4a10-89e9-35705e412eab</td>\n      <td>Fully Paid</td>\n      <td>789096</td>\n      <td>Long Term</td>\n      <td>723.0</td>\n      <td>2433900.0</td>\n      <td>10+ years</td>\n      <td>Home Mortgage</td>\n      <td>Debt Consolidation</td>\n      <td>54965.67</td>\n      <td>33.5</td>\n      <td>NaN</td>\n      <td>13</td>\n      <td>0</td>\n      <td>252225</td>\n      <td>605946.0</td>\n      <td>0.0</td>\n      <td>0.0</td>\n    </tr>\n    <tr>\n      <th>91606</th>\n      <td>4e69afa3-df35-40a5-bfe0-5b261a007c8d</td>\n      <td>222ca98a-2239-4ce1-b3bf-2fd2b75175f8</td>\n      <td>Fully Paid</td>\n      <td>789096</td>\n      <td>Long Term</td>\n      <td>640.0</td>\n      <td>1522641.0</td>\n      <td>1 year</td>\n      <td>Home Mortgage</td>\n      <td>Debt Consolidation</td>\n      <td>30326.09</td>\n      <td>21.0</td>\n      <td>13.0</td>\n      <td>16</td>\n      <td>0</td>\n      <td>478401</td>\n      <td>768306.0</td>\n      <td>0.0</td>\n      <td>0.0</td>\n    </tr>\n    <tr>\n      <th>55736</th>\n      <td>8d59aa00-d111-4439-9b32-82cc5ab5b940</td>\n      <td>4703635a-4418-4e97-bc74-30320a99eca5</td>\n      <td>Fully Paid</td>\n      <td>789184</td>\n      <td>Long Term</td>\n      <td>716.0</td>\n      <td>1596798.0</td>\n      <td>3 years</td>\n      <td>Home Mortgage</td>\n      <td>Debt Consolidation</td>\n      <td>44710.23</td>\n      <td>28.5</td>\n      <td>NaN</td>\n      <td>15</td>\n      <td>0</td>\n      <td>921139</td>\n      <td>1760044.0</td>\n      <td>0.0</td>\n      <td>0.0</td>\n    </tr>\n    <tr>\n      <th>59266</th>\n      <td>a572e23e-fc67-4d7a-92d0-3cad85ec0a47</td>\n      <td>118d9c17-dd07-4d27-85fd-93675fcddadc</td>\n      <td>Fully Paid</td>\n      <td>789184</td>\n      <td>Long Term</td>\n      <td>685.0</td>\n      <td>4381457.0</td>\n      <td>2 years</td>\n      <td>Home Mortgage</td>\n      <td>Debt Consolidation</td>\n      <td>46370.26</td>\n      <td>17.8</td>\n      <td>NaN</td>\n      <td>17</td>\n      <td>0</td>\n      <td>694089</td>\n      <td>1096414.0</td>\n      <td>0.0</td>\n      <td>0.0</td>\n    </tr>\n  </tbody>\n</table>\n<p>10215 rows × 19 columns</p>\n</div>"
     },
     "execution_count": 6,
     "metadata": {},
     "output_type": "execute_result"
    }
   ],
   "source": [
    "# вывод дублирующих наблюдений, отсортировали по текущему размеру долга\n",
    "telco[telco.duplicated()].sort_values('Current Loan Amount')"
   ],
   "metadata": {
    "collapsed": false,
    "pycharm": {
     "name": "#%%\n"
    }
   }
  },
  {
   "cell_type": "markdown",
   "source": [
    "Построим сводные таблицы"
   ],
   "metadata": {
    "collapsed": false
   }
  },
  {
   "cell_type": "code",
   "execution_count": 7,
   "outputs": [
    {
     "data": {
      "text/plain": "                            sum              median\n            Current Loan Amount Current Loan Amount\nLoan Status                                        \nCharged Off          7357114160              286726\nFully Paid        1168687624786              321266",
      "text/html": "<div>\n<style scoped>\n    .dataframe tbody tr th:only-of-type {\n        vertical-align: middle;\n    }\n\n    .dataframe tbody tr th {\n        vertical-align: top;\n    }\n\n    .dataframe thead tr th {\n        text-align: left;\n    }\n\n    .dataframe thead tr:last-of-type th {\n        text-align: right;\n    }\n</style>\n<table border=\"1\" class=\"dataframe\">\n  <thead>\n    <tr>\n      <th></th>\n      <th>sum</th>\n      <th>median</th>\n    </tr>\n    <tr>\n      <th></th>\n      <th>Current Loan Amount</th>\n      <th>Current Loan Amount</th>\n    </tr>\n    <tr>\n      <th>Loan Status</th>\n      <th></th>\n      <th></th>\n    </tr>\n  </thead>\n  <tbody>\n    <tr>\n      <th>Charged Off</th>\n      <td>7357114160</td>\n      <td>286726</td>\n    </tr>\n    <tr>\n      <th>Fully Paid</th>\n      <td>1168687624786</td>\n      <td>321266</td>\n    </tr>\n  </tbody>\n</table>\n</div>"
     },
     "execution_count": 7,
     "metadata": {},
     "output_type": "execute_result"
    }
   ],
   "source": [
    "# сводная таблица, показывает сумму выплаченных и невыплаченных кредитов, а также медиану суммы кредита\n",
    "# -> средняя сумма кредита взятого < средняя сумма выплаченных\n",
    "telco.pivot_table(values='Current Loan Amount', index='Loan Status', aggfunc=[\"sum\", \"median\"])"
   ],
   "metadata": {
    "collapsed": false,
    "pycharm": {
     "name": "#%%\n"
    }
   }
  },
  {
   "cell_type": "code",
   "execution_count": 8,
   "outputs": [
    {
     "data": {
      "text/plain": "                                                     sum              median  \\\n                                     Current Loan Amount Current Loan Amount   \nCustomer ID                                                                    \n00003c89-d86a-48a2-9f95-e1ec9d488ee1               86592             86592.0   \n0002005f-3575-462e-bb81-714530e8e752              140844            140844.0   \n00024ad3-b367-44e3-81ff-4bee18ed00b4            99999999          99999999.0   \n0003f10e-f8f4-4eb1-9bb8-b980fdda707c              262680            262680.0   \n00062646-806a-4e8c-8cfd-afeb458cdf22              406934            406934.0   \n...                                                  ...                 ...   \nfffc6027-7506-4a93-bf58-6346730f2602           100335587          50167793.5   \nfffdceed-eefe-48e6-97a1-140395719348             1515228            757614.0   \nfffee060-71f1-426a-8ce3-dac562554b04              218812            218812.0   \nffff1be7-7ce4-479a-9eda-6adf354b768d              351648            351648.0   \nffff6cf8-4779-48be-9fc1-5a93b6e16c2d              879824            439912.0   \n\n                                                   count  \n                                     Current Loan Amount  \nCustomer ID                                               \n00003c89-d86a-48a2-9f95-e1ec9d488ee1                   1  \n0002005f-3575-462e-bb81-714530e8e752                   1  \n00024ad3-b367-44e3-81ff-4bee18ed00b4                   1  \n0003f10e-f8f4-4eb1-9bb8-b980fdda707c                   1  \n00062646-806a-4e8c-8cfd-afeb458cdf22                   1  \n...                                                  ...  \nfffc6027-7506-4a93-bf58-6346730f2602                   2  \nfffdceed-eefe-48e6-97a1-140395719348                   2  \nfffee060-71f1-426a-8ce3-dac562554b04                   1  \nffff1be7-7ce4-479a-9eda-6adf354b768d                   1  \nffff6cf8-4779-48be-9fc1-5a93b6e16c2d                   2  \n\n[81999 rows x 3 columns]",
      "text/html": "<div>\n<style scoped>\n    .dataframe tbody tr th:only-of-type {\n        vertical-align: middle;\n    }\n\n    .dataframe tbody tr th {\n        vertical-align: top;\n    }\n\n    .dataframe thead tr th {\n        text-align: left;\n    }\n\n    .dataframe thead tr:last-of-type th {\n        text-align: right;\n    }\n</style>\n<table border=\"1\" class=\"dataframe\">\n  <thead>\n    <tr>\n      <th></th>\n      <th>sum</th>\n      <th>median</th>\n      <th>count</th>\n    </tr>\n    <tr>\n      <th></th>\n      <th>Current Loan Amount</th>\n      <th>Current Loan Amount</th>\n      <th>Current Loan Amount</th>\n    </tr>\n    <tr>\n      <th>Customer ID</th>\n      <th></th>\n      <th></th>\n      <th></th>\n    </tr>\n  </thead>\n  <tbody>\n    <tr>\n      <th>00003c89-d86a-48a2-9f95-e1ec9d488ee1</th>\n      <td>86592</td>\n      <td>86592.0</td>\n      <td>1</td>\n    </tr>\n    <tr>\n      <th>0002005f-3575-462e-bb81-714530e8e752</th>\n      <td>140844</td>\n      <td>140844.0</td>\n      <td>1</td>\n    </tr>\n    <tr>\n      <th>00024ad3-b367-44e3-81ff-4bee18ed00b4</th>\n      <td>99999999</td>\n      <td>99999999.0</td>\n      <td>1</td>\n    </tr>\n    <tr>\n      <th>0003f10e-f8f4-4eb1-9bb8-b980fdda707c</th>\n      <td>262680</td>\n      <td>262680.0</td>\n      <td>1</td>\n    </tr>\n    <tr>\n      <th>00062646-806a-4e8c-8cfd-afeb458cdf22</th>\n      <td>406934</td>\n      <td>406934.0</td>\n      <td>1</td>\n    </tr>\n    <tr>\n      <th>...</th>\n      <td>...</td>\n      <td>...</td>\n      <td>...</td>\n    </tr>\n    <tr>\n      <th>fffc6027-7506-4a93-bf58-6346730f2602</th>\n      <td>100335587</td>\n      <td>50167793.5</td>\n      <td>2</td>\n    </tr>\n    <tr>\n      <th>fffdceed-eefe-48e6-97a1-140395719348</th>\n      <td>1515228</td>\n      <td>757614.0</td>\n      <td>2</td>\n    </tr>\n    <tr>\n      <th>fffee060-71f1-426a-8ce3-dac562554b04</th>\n      <td>218812</td>\n      <td>218812.0</td>\n      <td>1</td>\n    </tr>\n    <tr>\n      <th>ffff1be7-7ce4-479a-9eda-6adf354b768d</th>\n      <td>351648</td>\n      <td>351648.0</td>\n      <td>1</td>\n    </tr>\n    <tr>\n      <th>ffff6cf8-4779-48be-9fc1-5a93b6e16c2d</th>\n      <td>879824</td>\n      <td>439912.0</td>\n      <td>2</td>\n    </tr>\n  </tbody>\n</table>\n<p>81999 rows × 3 columns</p>\n</div>"
     },
     "execution_count": 8,
     "metadata": {},
     "output_type": "execute_result"
    }
   ],
   "source": [
    "# а здесь, в сводной таблице мы видим выборку уникальных значений человеков, взявших когда либо кредит\n",
    "# общую сумму, меданное значение и количество кредитов\n",
    "telco.pivot_table(values='Current Loan Amount', index='Customer ID', aggfunc=[\"sum\", \"median\", \"count\"])"
   ],
   "metadata": {
    "collapsed": false,
    "pycharm": {
     "name": "#%%\n"
    }
   }
  },
  {
   "cell_type": "code",
   "execution_count": 9,
   "outputs": [],
   "source": [
    "def pvt_tbl(dataframe, index_col, value_col, columns_col = None, aggfunc_col=[\"median\"]):\n",
    "    pv_table = dataframe.pivot_table(values = value_col, index=index_col, aggfunc=aggfunc_col,columns= columns_col)\n",
    "    return pv_table"
   ],
   "metadata": {
    "collapsed": false,
    "pycharm": {
     "name": "#%%\n"
    }
   }
  },
  {
   "cell_type": "code",
   "execution_count": 10,
   "outputs": [
    {
     "name": "stdout",
     "output_type": "stream",
     "text": [
      "                     median\n",
      "               Credit Score\n",
      "Home Ownership             \n",
      "HaveMortgage          719.0\n",
      "Home Mortgage         725.0\n",
      "Own Home              723.0\n",
      "Rent                  723.0\n",
      "                           median\n",
      "                     Credit Score\n",
      "Purpose                          \n",
      "Business Loan               712.0\n",
      "Buy House                   713.0\n",
      "Buy a Car                   734.0\n",
      "Debt Consolidation          725.0\n",
      "Educational Expenses        733.5\n",
      "Home Improvements           725.0\n",
      "Medical Bills               715.0\n",
      "Other                       724.0\n",
      "Take a Trip                 718.0\n",
      "major_purchase              730.5\n",
      "moving                      707.0\n",
      "other                       714.0\n",
      "renewable_energy            710.0\n",
      "small_business              711.0\n",
      "vacation                    714.0\n",
      "wedding                     720.5\n"
     ]
    }
   ],
   "source": [
    "# получаем средний кредитный счет с классификацией по 1. имеет жилье/снимает 2. По целям\n",
    "for element in [\"Home Ownership\", \"Purpose\"]:\n",
    "    print(pvt_tbl(telco, index_col=element, value_col=\"Credit Score\"))"
   ],
   "metadata": {
    "collapsed": false,
    "pycharm": {
     "name": "#%%\n"
    }
   }
  },
  {
   "cell_type": "markdown",
   "source": [
    "Выходит, что самый высокий кредитный счет у людей, кто вкладывал в активы(Education, major_purchase, Buy a Car)\n",
    "Самый низкий: кто вкладывал в то, что не приносят доход(moving, small_business, renewable_energy, vacation)\n",
    "small_business - понятно, более 90% отмирают в течение 90 дней после создания\n",
    "renewable_energy - думаю, что тоже. В данный момент эти проекты убыточны, в тч. проект илона маска\n",
    "vacation/moving - думаю, что не стоить объяснять"
   ],
   "metadata": {
    "collapsed": false
   }
  },
  {
   "cell_type": "markdown",
   "source": [
    "*ДИАГРАММЫ*"
   ],
   "metadata": {
    "collapsed": false
   }
  },
  {
   "cell_type": "code",
   "execution_count": 11,
   "outputs": [
    {
     "data": {
      "text/plain": "Short Term    0.630461\nLong Term     0.369539\nName: Term, dtype: float64"
     },
     "execution_count": 11,
     "metadata": {},
     "output_type": "execute_result"
    }
   ],
   "source": [
    "# получили типы кредитов, еще не выплаченных\n",
    "telco[\n",
    "    (telco[\"Loan Status\"]==\"Charged Off\")\n",
    "][\"Term\"].value_counts(normalize=True)"
   ],
   "metadata": {
    "collapsed": false,
    "pycharm": {
     "name": "#%%\n"
    }
   }
  },
  {
   "cell_type": "code",
   "execution_count": 12,
   "outputs": [
    {
     "data": {
      "text/plain": "<AxesSubplot:>"
     },
     "execution_count": 12,
     "metadata": {},
     "output_type": "execute_result"
    },
    {
     "data": {
      "text/plain": "<Figure size 432x288 with 1 Axes>",
      "image/png": "[encoded data removed]"
     },
     "metadata": {
      "needs_background": "light"
     },
     "output_type": "display_data"
    }
   ],
   "source": [
    "# получили типы кредитов, еще не выплаченных\n",
    "telco[\n",
    "    (telco[\"Loan Status\"]==\"Charged Off\")\n",
    "][\"Term\"]\\\n",
    ".value_counts(normalize=True)\\\n",
    ".plot(kind =\"bar\")"
   ],
   "metadata": {
    "collapsed": false,
    "pycharm": {
     "name": "#%%\n"
    }
   }
  },
  {
   "cell_type": "markdown",
   "source": [
    "Видно, что краткосрочные кредиты берут в 2 раза чаще"
   ],
   "metadata": {
    "collapsed": false
   }
  },
  {
   "cell_type": "code",
   "execution_count": 13,
   "outputs": [
    {
     "data": {
      "text/plain": "0         True\n1        False\n2        False\n3         True\n4        False\n         ...  \n99995     True\n99996    False\n99997    False\n99998    False\n99999    False\nName: Customer ID, Length: 100000, dtype: bool"
     },
     "execution_count": 13,
     "metadata": {},
     "output_type": "execute_result"
    }
   ],
   "source": [
    "\n",
    "telco['Customer ID'].isin(telco[telco.duplicated()]['Customer ID'])\n"
   ],
   "metadata": {
    "collapsed": false,
    "pycharm": {
     "name": "#%%\n"
    }
   }
  },
  {
   "cell_type": "code",
   "execution_count": 14,
   "outputs": [
    {
     "data": {
      "text/plain": "<AxesSubplot:>"
     },
     "execution_count": 14,
     "metadata": {},
     "output_type": "execute_result"
    },
    {
     "data": {
      "text/plain": "<Figure size 432x288 with 1 Axes>",
      "image/png": "[encoded data removed]"
     },
     "metadata": {
      "needs_background": "light"
     },
     "output_type": "display_data"
    }
   ],
   "source": [
    "# выберем всех с доходом <150000, которые имеют несколько записей о кредитах\n",
    "telco[\n",
    "    (telco[\"Annual Income\"]<150000)  &\n",
    "    (telco['Customer ID'].isin(telco[telco.duplicated()]['Customer ID']))\n",
    "][\"Annual Income\"]\\\n",
    ".value_counts(normalize=True)\\\n",
    ".plot(kind =\"bar\")"
   ],
   "metadata": {
    "collapsed": false,
    "pycharm": {
     "name": "#%%\n"
    }
   }
  },
  {
   "cell_type": "code",
   "execution_count": 15,
   "outputs": [
    {
     "data": {
      "text/plain": "<Figure size 432x288 with 1 Axes>",
      "image/png": "[encoded data removed]"
     },
     "metadata": {
      "needs_background": "light"
     },
     "output_type": "display_data"
    },
    {
     "data": {
      "text/plain": "<Figure size 432x288 with 1 Axes>",
      "image/png": "[encoded data removed]"
     },
     "metadata": {
      "needs_background": "light"
     },
     "output_type": "display_data"
    },
    {
     "name": "stderr",
     "output_type": "stream",
     "text": [
      "\n",
      "KeyboardInterrupt\n",
      "\n"
     ]
    }
   ],
   "source": [
    "# три диаграммы, первая показывает средний доход людей, у которых < 2 кредитов и сумма дохода <150000\n",
    "#                 Вторая, сумма дохода 150000.. 300000\n",
    "def fun1(i):\n",
    "    return i<150000\n",
    "def fun2(i):\n",
    "    return (150000 <= i) & (i<=300000)\n",
    "def fun3(i):\n",
    "    return i>300000\n",
    "for element in [fun1, fun2,fun3]:\n",
    "    telco[\n",
    "        element(telco['Annual Income'])  &\n",
    "        (telco['Customer ID'].isin(telco[telco.duplicated()]['Customer ID']))\n",
    "    ][\"Annual Income\"]\\\n",
    "    .value_counts(normalize=True)\\\n",
    "    .plot(kind =\"bar\")\n",
    "    plt.show()"
   ],
   "metadata": {
    "collapsed": false,
    "pycharm": {
     "name": "#%%\n"
    }
   }
  },
  {
   "cell_type": "markdown",
   "source": [
    "Коробчатые диаграммы"
   ],
   "metadata": {
    "collapsed": false
   }
  },
  {
   "cell_type": "code",
   "execution_count": null,
   "outputs": [],
   "source": [
    "plt.figure(figsize=(12,12))\n",
    "sns.boxplot(data = telco, x=\"Annual Income\", y=\"Current Loan Amount\")"
   ],
   "metadata": {
    "collapsed": false,
    "pycharm": {
     "name": "#%%\n"
    }
   }
  },
  {
   "cell_type": "code",
   "execution_count": null,
   "outputs": [],
   "source": [
    "telco.corr()"
   ],
   "metadata": {
    "collapsed": false,
    "pycharm": {
     "name": "#%%\n"
    }
   }
  },
  {
   "cell_type": "markdown",
   "source": [
    "Можно увидеть, что Current Credit Balance больше всего зависит от Annual Income, Monthly Debt и Number of Open Accounts, что В целом логично"
   ],
   "metadata": {
    "collapsed": false
   }
  },
  {
   "cell_type": "markdown",
   "source": [
    "Maximum Open Credit зависит от лет в кредитной истории"
   ],
   "metadata": {
    "collapsed": false
   }
  },
  {
   "cell_type": "code",
   "execution_count": 16,
   "outputs": [],
   "source": [
    "telco_dummies = pd.get_dummies(telco[telco['Annual Income']<200000].head(800))"
   ],
   "metadata": {
    "collapsed": false,
    "pycharm": {
     "name": "#%%\n"
    }
   }
  },
  {
   "cell_type": "code",
   "execution_count": 17,
   "outputs": [
    {
     "data": {
      "text/plain": "                           Current Loan Amount  Credit Score  Annual Income  \\\nCurrent Loan Amount                   1.000000     -0.094415      -0.214867   \nCredit Score                         -0.094415      1.000000       0.112120   \nAnnual Income                        -0.214867      0.112120       1.000000   \nMonthly Debt                         -0.014313     -0.127923       0.287540   \nYears of Credit History              -0.025102      0.004009      -0.072722   \n...                                        ...           ...            ...   \nPurpose_Home Improvements            -0.061713     -0.052360       0.044921   \nPurpose_Medical Bills                -0.050248     -0.038208       0.106843   \nPurpose_Other                         0.028743      0.080271      -0.310932   \nPurpose_Take a Trip                  -0.050151      0.244273       0.028011   \nPurpose_other                         0.001505     -0.133452       0.133158   \n\n                           Monthly Debt  Years of Credit History  \\\nCurrent Loan Amount           -0.014313                -0.025102   \nCredit Score                  -0.127923                 0.004009   \nAnnual Income                  0.287540                -0.072722   \nMonthly Debt                   1.000000                -0.029815   \nYears of Credit History       -0.029815                 1.000000   \n...                                 ...                      ...   \nPurpose_Home Improvements      0.083281                 0.104131   \nPurpose_Medical Bills         -0.163869                 0.079614   \nPurpose_Other                 -0.297762                 0.122059   \nPurpose_Take a Trip            0.147367                 0.006008   \nPurpose_other                 -0.010444                -0.112596   \n\n                           Months since last delinquent  \\\nCurrent Loan Amount                            0.009873   \nCredit Score                                  -0.197572   \nAnnual Income                                  0.212146   \nMonthly Debt                                   0.259824   \nYears of Credit History                        0.095139   \n...                                                 ...   \nPurpose_Home Improvements                           NaN   \nPurpose_Medical Bills                               NaN   \nPurpose_Other                                 -0.180909   \nPurpose_Take a Trip                                 NaN   \nPurpose_other                                  0.509098   \n\n                           Number of Open Accounts  Number of Credit Problems  \\\nCurrent Loan Amount                      -0.118436                  -0.129742   \nCredit Score                              0.015971                   0.017270   \nAnnual Income                             0.178173                   0.104951   \nMonthly Debt                              0.104285                   0.042287   \nYears of Credit History                  -0.007723                   0.241792   \n...                                            ...                        ...   \nPurpose_Home Improvements                 0.050846                   0.476240   \nPurpose_Medical Bills                    -0.054750                   0.167053   \nPurpose_Other                            -0.065617                  -0.101311   \nPurpose_Take a Trip                      -0.018730                  -0.052753   \nPurpose_other                            -0.081118                  -0.012816   \n\n                           Current Credit Balance  Maximum Open Credit  ...  \\\nCurrent Loan Amount                     -0.020998            -0.040516  ...   \nCredit Score                            -0.059921            -0.000194  ...   \nAnnual Income                            0.004278            -0.000263  ...   \nMonthly Debt                             0.190230             0.022984  ...   \nYears of Credit History                  0.285671             0.319193  ...   \n...                                           ...                  ...  ...   \nPurpose_Home Improvements                0.006417            -0.025976  ...   \nPurpose_Medical Bills                   -0.056032            -0.021014  ...   \nPurpose_Other                           -0.068407            -0.036420  ...   \nPurpose_Take a Trip                     -0.029724            -0.042808  ...   \nPurpose_other                           -0.053155            -0.079367  ...   \n\n                           Home Ownership_Rent  Purpose_Business Loan  \\\nCurrent Loan Amount                   0.047817              -0.050261   \nCredit Score                         -0.031424              -0.038548   \nAnnual Income                         0.084891               0.087829   \nMonthly Debt                         -0.047313              -0.146439   \nYears of Credit History              -0.187315               0.074641   \n...                                        ...                    ...   \nPurpose_Home Improvements            -0.312951              -0.025123   \nPurpose_Medical Bills                 0.080279              -0.020408   \nPurpose_Other                        -0.212905              -0.039193   \nPurpose_Take a Trip                   0.080279              -0.020408   \nPurpose_other                         0.080449              -0.066932   \n\n                           Purpose_Buy a Car  Purpose_Debt Consolidation  \\\nCurrent Loan Amount                 0.045785                   -0.024508   \nCredit Score                       -0.066173                    0.076291   \nAnnual Income                      -0.153892                    0.137472   \nMonthly Debt                       -0.268313                    0.365847   \nYears of Credit History             0.163667                   -0.120713   \n...                                      ...                         ...   \nPurpose_Home Improvements          -0.044431                   -0.206664   \nPurpose_Medical Bills              -0.036092                   -0.167877   \nPurpose_Other                      -0.069314                   -0.322401   \nPurpose_Take a Trip                -0.036092                   -0.167877   \nPurpose_other                      -0.118370                   -0.550578   \n\n                           Purpose_Educational Expenses  \\\nCurrent Loan Amount                            0.178078   \nCredit Score                                  -0.040498   \nAnnual Income                                 -0.299755   \nMonthly Debt                                  -0.201823   \nYears of Credit History                       -0.052678   \n...                                                 ...   \nPurpose_Home Improvements                     -0.025123   \nPurpose_Medical Bills                         -0.020408   \nPurpose_Other                                 -0.039193   \nPurpose_Take a Trip                           -0.020408   \nPurpose_other                                 -0.066932   \n\n                           Purpose_Home Improvements  Purpose_Medical Bills  \\\nCurrent Loan Amount                        -0.061713              -0.050248   \nCredit Score                               -0.052360              -0.038208   \nAnnual Income                               0.044921               0.106843   \nMonthly Debt                                0.083281              -0.163869   \nYears of Credit History                     0.104131               0.079614   \n...                                              ...                    ...   \nPurpose_Home Improvements                   1.000000              -0.025123   \nPurpose_Medical Bills                      -0.025123               1.000000   \nPurpose_Other                              -0.048248              -0.039193   \nPurpose_Take a Trip                        -0.025123              -0.020408   \nPurpose_other                              -0.082396              -0.066932   \n\n                           Purpose_Other  Purpose_Take a Trip  Purpose_other  \nCurrent Loan Amount             0.028743            -0.050151       0.001505  \nCredit Score                    0.080271             0.244273      -0.133452  \nAnnual Income                  -0.310932             0.028011       0.133158  \nMonthly Debt                   -0.297762             0.147367      -0.010444  \nYears of Credit History         0.122059             0.006008      -0.112596  \n...                                  ...                  ...            ...  \nPurpose_Home Improvements      -0.048248            -0.025123      -0.082396  \nPurpose_Medical Bills          -0.039193            -0.020408      -0.066932  \nPurpose_Other                   1.000000            -0.039193      -0.128540  \nPurpose_Take a Trip            -0.039193             1.000000      -0.066932  \nPurpose_other                  -0.128540            -0.066932       1.000000  \n\n[206 rows x 206 columns]",
      "text/html": "<div>\n<style scoped>\n    .dataframe tbody tr th:only-of-type {\n        vertical-align: middle;\n    }\n\n    .dataframe tbody tr th {\n        vertical-align: top;\n    }\n\n    .dataframe thead th {\n        text-align: right;\n    }\n</style>\n<table border=\"1\" class=\"dataframe\">\n  <thead>\n    <tr style=\"text-align: right;\">\n      <th></th>\n      <th>Current Loan Amount</th>\n      <th>Credit Score</th>\n      <th>Annual Income</th>\n      <th>Monthly Debt</th>\n      <th>Years of Credit History</th>\n      <th>Months since last delinquent</th>\n      <th>Number of Open Accounts</th>\n      <th>Number of Credit Problems</th>\n      <th>Current Credit Balance</th>\n      <th>Maximum Open Credit</th>\n      <th>...</th>\n      <th>Home Ownership_Rent</th>\n      <th>Purpose_Business Loan</th>\n      <th>Purpose_Buy a Car</th>\n      <th>Purpose_Debt Consolidation</th>\n      <th>Purpose_Educational Expenses</th>\n      <th>Purpose_Home Improvements</th>\n      <th>Purpose_Medical Bills</th>\n      <th>Purpose_Other</th>\n      <th>Purpose_Take a Trip</th>\n      <th>Purpose_other</th>\n    </tr>\n  </thead>\n  <tbody>\n    <tr>\n      <th>Current Loan Amount</th>\n      <td>1.000000</td>\n      <td>-0.094415</td>\n      <td>-0.214867</td>\n      <td>-0.014313</td>\n      <td>-0.025102</td>\n      <td>0.009873</td>\n      <td>-0.118436</td>\n      <td>-0.129742</td>\n      <td>-0.020998</td>\n      <td>-0.040516</td>\n      <td>...</td>\n      <td>0.047817</td>\n      <td>-0.050261</td>\n      <td>0.045785</td>\n      <td>-0.024508</td>\n      <td>0.178078</td>\n      <td>-0.061713</td>\n      <td>-0.050248</td>\n      <td>0.028743</td>\n      <td>-0.050151</td>\n      <td>0.001505</td>\n    </tr>\n    <tr>\n      <th>Credit Score</th>\n      <td>-0.094415</td>\n      <td>1.000000</td>\n      <td>0.112120</td>\n      <td>-0.127923</td>\n      <td>0.004009</td>\n      <td>-0.197572</td>\n      <td>0.015971</td>\n      <td>0.017270</td>\n      <td>-0.059921</td>\n      <td>-0.000194</td>\n      <td>...</td>\n      <td>-0.031424</td>\n      <td>-0.038548</td>\n      <td>-0.066173</td>\n      <td>0.076291</td>\n      <td>-0.040498</td>\n      <td>-0.052360</td>\n      <td>-0.038208</td>\n      <td>0.080271</td>\n      <td>0.244273</td>\n      <td>-0.133452</td>\n    </tr>\n    <tr>\n      <th>Annual Income</th>\n      <td>-0.214867</td>\n      <td>0.112120</td>\n      <td>1.000000</td>\n      <td>0.287540</td>\n      <td>-0.072722</td>\n      <td>0.212146</td>\n      <td>0.178173</td>\n      <td>0.104951</td>\n      <td>0.004278</td>\n      <td>-0.000263</td>\n      <td>...</td>\n      <td>0.084891</td>\n      <td>0.087829</td>\n      <td>-0.153892</td>\n      <td>0.137472</td>\n      <td>-0.299755</td>\n      <td>0.044921</td>\n      <td>0.106843</td>\n      <td>-0.310932</td>\n      <td>0.028011</td>\n      <td>0.133158</td>\n    </tr>\n    <tr>\n      <th>Monthly Debt</th>\n      <td>-0.014313</td>\n      <td>-0.127923</td>\n      <td>0.287540</td>\n      <td>1.000000</td>\n      <td>-0.029815</td>\n      <td>0.259824</td>\n      <td>0.104285</td>\n      <td>0.042287</td>\n      <td>0.190230</td>\n      <td>0.022984</td>\n      <td>...</td>\n      <td>-0.047313</td>\n      <td>-0.146439</td>\n      <td>-0.268313</td>\n      <td>0.365847</td>\n      <td>-0.201823</td>\n      <td>0.083281</td>\n      <td>-0.163869</td>\n      <td>-0.297762</td>\n      <td>0.147367</td>\n      <td>-0.010444</td>\n    </tr>\n    <tr>\n      <th>Years of Credit History</th>\n      <td>-0.025102</td>\n      <td>0.004009</td>\n      <td>-0.072722</td>\n      <td>-0.029815</td>\n      <td>1.000000</td>\n      <td>0.095139</td>\n      <td>-0.007723</td>\n      <td>0.241792</td>\n      <td>0.285671</td>\n      <td>0.319193</td>\n      <td>...</td>\n      <td>-0.187315</td>\n      <td>0.074641</td>\n      <td>0.163667</td>\n      <td>-0.120713</td>\n      <td>-0.052678</td>\n      <td>0.104131</td>\n      <td>0.079614</td>\n      <td>0.122059</td>\n      <td>0.006008</td>\n      <td>-0.112596</td>\n    </tr>\n    <tr>\n      <th>...</th>\n      <td>...</td>\n      <td>...</td>\n      <td>...</td>\n      <td>...</td>\n      <td>...</td>\n      <td>...</td>\n      <td>...</td>\n      <td>...</td>\n      <td>...</td>\n      <td>...</td>\n      <td>...</td>\n      <td>...</td>\n      <td>...</td>\n      <td>...</td>\n      <td>...</td>\n      <td>...</td>\n      <td>...</td>\n      <td>...</td>\n      <td>...</td>\n      <td>...</td>\n      <td>...</td>\n    </tr>\n    <tr>\n      <th>Purpose_Home Improvements</th>\n      <td>-0.061713</td>\n      <td>-0.052360</td>\n      <td>0.044921</td>\n      <td>0.083281</td>\n      <td>0.104131</td>\n      <td>NaN</td>\n      <td>0.050846</td>\n      <td>0.476240</td>\n      <td>0.006417</td>\n      <td>-0.025976</td>\n      <td>...</td>\n      <td>-0.312951</td>\n      <td>-0.025123</td>\n      <td>-0.044431</td>\n      <td>-0.206664</td>\n      <td>-0.025123</td>\n      <td>1.000000</td>\n      <td>-0.025123</td>\n      <td>-0.048248</td>\n      <td>-0.025123</td>\n      <td>-0.082396</td>\n    </tr>\n    <tr>\n      <th>Purpose_Medical Bills</th>\n      <td>-0.050248</td>\n      <td>-0.038208</td>\n      <td>0.106843</td>\n      <td>-0.163869</td>\n      <td>0.079614</td>\n      <td>NaN</td>\n      <td>-0.054750</td>\n      <td>0.167053</td>\n      <td>-0.056032</td>\n      <td>-0.021014</td>\n      <td>...</td>\n      <td>0.080279</td>\n      <td>-0.020408</td>\n      <td>-0.036092</td>\n      <td>-0.167877</td>\n      <td>-0.020408</td>\n      <td>-0.025123</td>\n      <td>1.000000</td>\n      <td>-0.039193</td>\n      <td>-0.020408</td>\n      <td>-0.066932</td>\n    </tr>\n    <tr>\n      <th>Purpose_Other</th>\n      <td>0.028743</td>\n      <td>0.080271</td>\n      <td>-0.310932</td>\n      <td>-0.297762</td>\n      <td>0.122059</td>\n      <td>-0.180909</td>\n      <td>-0.065617</td>\n      <td>-0.101311</td>\n      <td>-0.068407</td>\n      <td>-0.036420</td>\n      <td>...</td>\n      <td>-0.212905</td>\n      <td>-0.039193</td>\n      <td>-0.069314</td>\n      <td>-0.322401</td>\n      <td>-0.039193</td>\n      <td>-0.048248</td>\n      <td>-0.039193</td>\n      <td>1.000000</td>\n      <td>-0.039193</td>\n      <td>-0.128540</td>\n    </tr>\n    <tr>\n      <th>Purpose_Take a Trip</th>\n      <td>-0.050151</td>\n      <td>0.244273</td>\n      <td>0.028011</td>\n      <td>0.147367</td>\n      <td>0.006008</td>\n      <td>NaN</td>\n      <td>-0.018730</td>\n      <td>-0.052753</td>\n      <td>-0.029724</td>\n      <td>-0.042808</td>\n      <td>...</td>\n      <td>0.080279</td>\n      <td>-0.020408</td>\n      <td>-0.036092</td>\n      <td>-0.167877</td>\n      <td>-0.020408</td>\n      <td>-0.025123</td>\n      <td>-0.020408</td>\n      <td>-0.039193</td>\n      <td>1.000000</td>\n      <td>-0.066932</td>\n    </tr>\n    <tr>\n      <th>Purpose_other</th>\n      <td>0.001505</td>\n      <td>-0.133452</td>\n      <td>0.133158</td>\n      <td>-0.010444</td>\n      <td>-0.112596</td>\n      <td>0.509098</td>\n      <td>-0.081118</td>\n      <td>-0.012816</td>\n      <td>-0.053155</td>\n      <td>-0.079367</td>\n      <td>...</td>\n      <td>0.080449</td>\n      <td>-0.066932</td>\n      <td>-0.118370</td>\n      <td>-0.550578</td>\n      <td>-0.066932</td>\n      <td>-0.082396</td>\n      <td>-0.066932</td>\n      <td>-0.128540</td>\n      <td>-0.066932</td>\n      <td>1.000000</td>\n    </tr>\n  </tbody>\n</table>\n<p>206 rows × 206 columns</p>\n</div>"
     },
     "execution_count": 17,
     "metadata": {},
     "output_type": "execute_result"
    }
   ],
   "source": [
    "telco_dummies.corr()"
   ],
   "metadata": {
    "collapsed": false,
    "pycharm": {
     "name": "#%%\n"
    }
   }
  },
  {
   "cell_type": "code",
   "execution_count": 18,
   "outputs": [],
   "source": [
    "# 800 break the heatmap\n",
    "#plt.figure(figsize=(12,12))\n",
    "#sns.heatmap(telco_dummies.corr(), cmap=\"coolwarm\", annot = True)"
   ],
   "metadata": {
    "collapsed": false,
    "pycharm": {
     "name": "#%%\n"
    }
   }
  },
  {
   "cell_type": "code",
   "execution_count": 19,
   "outputs": [],
   "source": [
    "from sklearn.linear_model import LogisticRegression"
   ],
   "metadata": {
    "collapsed": false,
    "pycharm": {
     "name": "#%%\n"
    }
   }
  },
  {
   "cell_type": "code",
   "execution_count": 20,
   "outputs": [],
   "source": [
    "from sklearn.model_selection import train_test_split"
   ],
   "metadata": {
    "collapsed": false,
    "pycharm": {
     "name": "#%%\n"
    }
   }
  },
  {
   "cell_type": "code",
   "execution_count": 21,
   "outputs": [],
   "source": [
    "del telco_dummies['Months since last delinquent']\n",
    "del telco_dummies['Bankruptcies']\n",
    "# contains NaN\n",
    "\n",
    "X = telco_dummies.drop(labels=[\"Credit Score\"], axis=1)"
   ],
   "metadata": {
    "collapsed": false,
    "pycharm": {
     "name": "#%%\n"
    }
   }
  },
  {
   "cell_type": "code",
   "execution_count": 22,
   "outputs": [],
   "source": [
    "Y = telco_dummies[\"Credit Score\"]"
   ],
   "metadata": {
    "collapsed": false,
    "pycharm": {
     "name": "#%%\n"
    }
   }
  },
  {
   "cell_type": "code",
   "execution_count": 23,
   "outputs": [],
   "source": [
    "X_test, X_train, y_test, y_train  =  train_test_split(X,Y, test_size=.25, random_state=2)"
   ],
   "metadata": {
    "collapsed": false,
    "pycharm": {
     "name": "#%%\n"
    }
   }
  },
  {
   "cell_type": "code",
   "execution_count": 24,
   "outputs": [
    {
     "data": {
      "text/plain": "       Current Loan Amount  Annual Income  Monthly Debt  \\\n83169                75482       181982.0       5535.08   \n28313                65098       149986.0       1087.37   \n55832                47036       185687.0       2204.95   \n23157                60236       188404.0       1467.94   \n17500                60368       193097.0       4457.21   \n22511             99999999       149891.0        960.64   \n2267                 72336       192223.0       2806.49   \n24067                47894       130150.0       2971.41   \n24695                46530       151278.0       3504.74   \n13090                22462        97033.0       1455.59   \n99552             99999999       106533.0        329.27   \n91241             99999999       144267.0       2572.79   \n72271                84370       186333.0       3462.75   \n13497                22352       135071.0       1519.43   \n354                  64526       185782.0       4799.40   \n21175                60236       188404.0       1467.94   \n2837                 69762       180728.0       3031.64   \n26925                58036       185041.0        192.85   \n59170                67452       194161.0       4287.73   \n77436                50512       176586.0       2207.42   \n30427                84942       199386.0       2276.39   \n12529             99999999       135071.0       1519.43   \n83540                65868       189601.0       1459.96   \n44420                65384       188233.0       2744.93   \n71708             99999999       166839.0       3100.23   \n\n       Years of Credit History  Number of Open Accounts  \\\n83169                      8.6                        3   \n28313                     11.7                       12   \n55832                      9.4                        5   \n23157                      9.0                        4   \n17500                      8.9                        4   \n22511                     14.0                        6   \n2267                      12.3                        4   \n24067                     21.3                        3   \n24695                     11.5                        4   \n13090                     12.0                        5   \n99552                     11.8                        4   \n91241                      9.5                        4   \n72271                      6.0                        8   \n13497                     29.0                        3   \n354                       10.1                        8   \n21175                      9.0                        4   \n2837                      13.5                        3   \n26925                      8.3                       17   \n59170                      8.9                        5   \n77436                     12.5                        7   \n30427                     11.5                       12   \n12529                     29.0                        3   \n83540                     16.5                       19   \n44420                     16.0                        6   \n71708                     10.5                        6   \n\n       Number of Credit Problems  Current Credit Balance  Maximum Open Credit  \\\n83169                          0                  221882             269302.0   \n28313                          0                   49362             158312.0   \n55832                          0                   63859              85096.0   \n23157                          0                   89661             211024.0   \n17500                          0                  160588             212498.0   \n22511                          0                   21375              26708.0   \n2267                           0                    8417             100496.0   \n24067                          0                  100510             191730.0   \n24695                          0                  100643             251702.0   \n13090                          0                   18658              83050.0   \n99552                          0                   10963             147598.0   \n91241                          0                  119928             267058.0   \n72271                          0                   61427             114730.0   \n13497                          0                   43453              58080.0   \n354                            0                   72257             172128.0   \n21175                          0                   89661             211024.0   \n2837                           0                   13129             165132.0   \n26925                          0                    7904             397848.0   \n59170                          0                  120821             175318.0   \n77436                          1                   71250             147048.0   \n30427                          1                   51129             451902.0   \n12529                          0                   43453              58080.0   \n83540                          0                   98705             327492.0   \n44420                          0                   79838             309144.0   \n71708                          0                  119377             216986.0   \n\n       Tax Liens  Loan ID_03a1d73c-9eae-471a-8b96-5d06b7feb3d9  ...  \\\n83169        0.0                                             0  ...   \n28313        0.0                                             0  ...   \n55832        0.0                                             0  ...   \n23157        0.0                                             0  ...   \n17500        0.0                                             0  ...   \n22511        0.0                                             0  ...   \n2267         0.0                                             0  ...   \n24067        0.0                                             0  ...   \n24695        0.0                                             0  ...   \n13090        0.0                                             0  ...   \n99552        0.0                                             0  ...   \n91241        0.0                                             0  ...   \n72271        0.0                                             0  ...   \n13497        0.0                                             0  ...   \n354          0.0                                             0  ...   \n21175        0.0                                             0  ...   \n2837         0.0                                             0  ...   \n26925        0.0                                             0  ...   \n59170        0.0                                             0  ...   \n77436        0.0                                             0  ...   \n30427        0.0                                             0  ...   \n12529        0.0                                             0  ...   \n83540        0.0                                             0  ...   \n44420        0.0                                             0  ...   \n71708        0.0                                             0  ...   \n\n       Home Ownership_Rent  Purpose_Business Loan  Purpose_Buy a Car  \\\n83169                    1                      0                  0   \n28313                    1                      0                  1   \n55832                    1                      0                  0   \n23157                    1                      0                  0   \n17500                    1                      0                  0   \n22511                    1                      0                  0   \n2267                     1                      0                  0   \n24067                    0                      0                  0   \n24695                    0                      0                  0   \n13090                    1                      0                  0   \n99552                    1                      0                  0   \n91241                    1                      0                  0   \n72271                    1                      0                  0   \n13497                    1                      0                  1   \n354                      1                      0                  0   \n21175                    1                      0                  0   \n2837                     0                      0                  0   \n26925                    1                      0                  0   \n59170                    1                      0                  0   \n77436                    1                      0                  0   \n30427                    1                      0                  0   \n12529                    1                      0                  1   \n83540                    1                      0                  0   \n44420                    1                      0                  0   \n71708                    1                      0                  0   \n\n       Purpose_Debt Consolidation  Purpose_Educational Expenses  \\\n83169                           1                             0   \n28313                           0                             0   \n55832                           1                             0   \n23157                           1                             0   \n17500                           1                             0   \n22511                           0                             1   \n2267                            0                             0   \n24067                           0                             0   \n24695                           0                             0   \n13090                           1                             0   \n99552                           0                             0   \n91241                           0                             0   \n72271                           1                             0   \n13497                           0                             0   \n354                             1                             0   \n21175                           1                             0   \n2837                            0                             0   \n26925                           1                             0   \n59170                           1                             0   \n77436                           0                             0   \n30427                           1                             0   \n12529                           0                             0   \n83540                           0                             0   \n44420                           0                             0   \n71708                           1                             0   \n\n       Purpose_Home Improvements  Purpose_Medical Bills  Purpose_Other  \\\n83169                          0                      0              0   \n28313                          0                      0              0   \n55832                          0                      0              0   \n23157                          0                      0              0   \n17500                          0                      0              0   \n22511                          0                      0              0   \n2267                           0                      0              0   \n24067                          0                      0              1   \n24695                          0                      0              0   \n13090                          0                      0              0   \n99552                          0                      0              1   \n91241                          0                      0              0   \n72271                          0                      0              0   \n13497                          0                      0              0   \n354                            0                      0              0   \n21175                          0                      0              0   \n2837                           0                      0              0   \n26925                          0                      0              0   \n59170                          0                      0              0   \n77436                          0                      0              0   \n30427                          0                      0              0   \n12529                          0                      0              0   \n83540                          0                      0              1   \n44420                          0                      0              0   \n71708                          0                      0              0   \n\n       Purpose_Take a Trip  Purpose_other  \n83169                    0              0  \n28313                    0              0  \n55832                    0              0  \n23157                    0              0  \n17500                    0              0  \n22511                    0              0  \n2267                     0              1  \n24067                    0              0  \n24695                    0              1  \n13090                    0              0  \n99552                    0              0  \n91241                    0              1  \n72271                    0              0  \n13497                    0              0  \n354                      0              0  \n21175                    0              0  \n2837                     0              1  \n26925                    0              0  \n59170                    0              0  \n77436                    0              1  \n30427                    0              0  \n12529                    0              0  \n83540                    0              0  \n44420                    0              1  \n71708                    0              0  \n\n[25 rows x 203 columns]",
      "text/html": "<div>\n<style scoped>\n    .dataframe tbody tr th:only-of-type {\n        vertical-align: middle;\n    }\n\n    .dataframe tbody tr th {\n        vertical-align: top;\n    }\n\n    .dataframe thead th {\n        text-align: right;\n    }\n</style>\n<table border=\"1\" class=\"dataframe\">\n  <thead>\n    <tr style=\"text-align: right;\">\n      <th></th>\n      <th>Current Loan Amount</th>\n      <th>Annual Income</th>\n      <th>Monthly Debt</th>\n      <th>Years of Credit History</th>\n      <th>Number of Open Accounts</th>\n      <th>Number of Credit Problems</th>\n      <th>Current Credit Balance</th>\n      <th>Maximum Open Credit</th>\n      <th>Tax Liens</th>\n      <th>Loan ID_03a1d73c-9eae-471a-8b96-5d06b7feb3d9</th>\n      <th>...</th>\n      <th>Home Ownership_Rent</th>\n      <th>Purpose_Business Loan</th>\n      <th>Purpose_Buy a Car</th>\n      <th>Purpose_Debt Consolidation</th>\n      <th>Purpose_Educational Expenses</th>\n      <th>Purpose_Home Improvements</th>\n      <th>Purpose_Medical Bills</th>\n      <th>Purpose_Other</th>\n      <th>Purpose_Take a Trip</th>\n      <th>Purpose_other</th>\n    </tr>\n  </thead>\n  <tbody>\n    <tr>\n      <th>83169</th>\n      <td>75482</td>\n      <td>181982.0</td>\n      <td>5535.08</td>\n      <td>8.6</td>\n      <td>3</td>\n      <td>0</td>\n      <td>221882</td>\n      <td>269302.0</td>\n      <td>0.0</td>\n      <td>0</td>\n      <td>...</td>\n      <td>1</td>\n      <td>0</td>\n      <td>0</td>\n      <td>1</td>\n      <td>0</td>\n      <td>0</td>\n      <td>0</td>\n      <td>0</td>\n      <td>0</td>\n      <td>0</td>\n    </tr>\n    <tr>\n      <th>28313</th>\n      <td>65098</td>\n      <td>149986.0</td>\n      <td>1087.37</td>\n      <td>11.7</td>\n      <td>12</td>\n      <td>0</td>\n      <td>49362</td>\n      <td>158312.0</td>\n      <td>0.0</td>\n      <td>0</td>\n      <td>...</td>\n      <td>1</td>\n      <td>0</td>\n      <td>1</td>\n      <td>0</td>\n      <td>0</td>\n      <td>0</td>\n      <td>0</td>\n      <td>0</td>\n      <td>0</td>\n      <td>0</td>\n    </tr>\n    <tr>\n      <th>55832</th>\n      <td>47036</td>\n      <td>185687.0</td>\n      <td>2204.95</td>\n      <td>9.4</td>\n      <td>5</td>\n      <td>0</td>\n      <td>63859</td>\n      <td>85096.0</td>\n      <td>0.0</td>\n      <td>0</td>\n      <td>...</td>\n      <td>1</td>\n      <td>0</td>\n      <td>0</td>\n      <td>1</td>\n      <td>0</td>\n      <td>0</td>\n      <td>0</td>\n      <td>0</td>\n      <td>0</td>\n      <td>0</td>\n    </tr>\n    <tr>\n      <th>23157</th>\n      <td>60236</td>\n      <td>188404.0</td>\n      <td>1467.94</td>\n      <td>9.0</td>\n      <td>4</td>\n      <td>0</td>\n      <td>89661</td>\n      <td>211024.0</td>\n      <td>0.0</td>\n      <td>0</td>\n      <td>...</td>\n      <td>1</td>\n      <td>0</td>\n      <td>0</td>\n      <td>1</td>\n      <td>0</td>\n      <td>0</td>\n      <td>0</td>\n      <td>0</td>\n      <td>0</td>\n      <td>0</td>\n    </tr>\n    <tr>\n      <th>17500</th>\n      <td>60368</td>\n      <td>193097.0</td>\n      <td>4457.21</td>\n      <td>8.9</td>\n      <td>4</td>\n      <td>0</td>\n      <td>160588</td>\n      <td>212498.0</td>\n      <td>0.0</td>\n      <td>0</td>\n      <td>...</td>\n      <td>1</td>\n      <td>0</td>\n      <td>0</td>\n      <td>1</td>\n      <td>0</td>\n      <td>0</td>\n      <td>0</td>\n      <td>0</td>\n      <td>0</td>\n      <td>0</td>\n    </tr>\n    <tr>\n      <th>22511</th>\n      <td>99999999</td>\n      <td>149891.0</td>\n      <td>960.64</td>\n      <td>14.0</td>\n      <td>6</td>\n      <td>0</td>\n      <td>21375</td>\n      <td>26708.0</td>\n      <td>0.0</td>\n      <td>0</td>\n      <td>...</td>\n      <td>1</td>\n      <td>0</td>\n      <td>0</td>\n      <td>0</td>\n      <td>1</td>\n      <td>0</td>\n      <td>0</td>\n      <td>0</td>\n      <td>0</td>\n      <td>0</td>\n    </tr>\n    <tr>\n      <th>2267</th>\n      <td>72336</td>\n      <td>192223.0</td>\n      <td>2806.49</td>\n      <td>12.3</td>\n      <td>4</td>\n      <td>0</td>\n      <td>8417</td>\n      <td>100496.0</td>\n      <td>0.0</td>\n      <td>0</td>\n      <td>...</td>\n      <td>1</td>\n      <td>0</td>\n      <td>0</td>\n      <td>0</td>\n      <td>0</td>\n      <td>0</td>\n      <td>0</td>\n      <td>0</td>\n      <td>0</td>\n      <td>1</td>\n    </tr>\n    <tr>\n      <th>24067</th>\n      <td>47894</td>\n      <td>130150.0</td>\n      <td>2971.41</td>\n      <td>21.3</td>\n      <td>3</td>\n      <td>0</td>\n      <td>100510</td>\n      <td>191730.0</td>\n      <td>0.0</td>\n      <td>0</td>\n      <td>...</td>\n      <td>0</td>\n      <td>0</td>\n      <td>0</td>\n      <td>0</td>\n      <td>0</td>\n      <td>0</td>\n      <td>0</td>\n      <td>1</td>\n      <td>0</td>\n      <td>0</td>\n    </tr>\n    <tr>\n      <th>24695</th>\n      <td>46530</td>\n      <td>151278.0</td>\n      <td>3504.74</td>\n      <td>11.5</td>\n      <td>4</td>\n      <td>0</td>\n      <td>100643</td>\n      <td>251702.0</td>\n      <td>0.0</td>\n      <td>0</td>\n      <td>...</td>\n      <td>0</td>\n      <td>0</td>\n      <td>0</td>\n      <td>0</td>\n      <td>0</td>\n      <td>0</td>\n      <td>0</td>\n      <td>0</td>\n      <td>0</td>\n      <td>1</td>\n    </tr>\n    <tr>\n      <th>13090</th>\n      <td>22462</td>\n      <td>97033.0</td>\n      <td>1455.59</td>\n      <td>12.0</td>\n      <td>5</td>\n      <td>0</td>\n      <td>18658</td>\n      <td>83050.0</td>\n      <td>0.0</td>\n      <td>0</td>\n      <td>...</td>\n      <td>1</td>\n      <td>0</td>\n      <td>0</td>\n      <td>1</td>\n      <td>0</td>\n      <td>0</td>\n      <td>0</td>\n      <td>0</td>\n      <td>0</td>\n      <td>0</td>\n    </tr>\n    <tr>\n      <th>99552</th>\n      <td>99999999</td>\n      <td>106533.0</td>\n      <td>329.27</td>\n      <td>11.8</td>\n      <td>4</td>\n      <td>0</td>\n      <td>10963</td>\n      <td>147598.0</td>\n      <td>0.0</td>\n      <td>0</td>\n      <td>...</td>\n      <td>1</td>\n      <td>0</td>\n      <td>0</td>\n      <td>0</td>\n      <td>0</td>\n      <td>0</td>\n      <td>0</td>\n      <td>1</td>\n      <td>0</td>\n      <td>0</td>\n    </tr>\n    <tr>\n      <th>91241</th>\n      <td>99999999</td>\n      <td>144267.0</td>\n      <td>2572.79</td>\n      <td>9.5</td>\n      <td>4</td>\n      <td>0</td>\n      <td>119928</td>\n      <td>267058.0</td>\n      <td>0.0</td>\n      <td>0</td>\n      <td>...</td>\n      <td>1</td>\n      <td>0</td>\n      <td>0</td>\n      <td>0</td>\n      <td>0</td>\n      <td>0</td>\n      <td>0</td>\n      <td>0</td>\n      <td>0</td>\n      <td>1</td>\n    </tr>\n    <tr>\n      <th>72271</th>\n      <td>84370</td>\n      <td>186333.0</td>\n      <td>3462.75</td>\n      <td>6.0</td>\n      <td>8</td>\n      <td>0</td>\n      <td>61427</td>\n      <td>114730.0</td>\n      <td>0.0</td>\n      <td>0</td>\n      <td>...</td>\n      <td>1</td>\n      <td>0</td>\n      <td>0</td>\n      <td>1</td>\n      <td>0</td>\n      <td>0</td>\n      <td>0</td>\n      <td>0</td>\n      <td>0</td>\n      <td>0</td>\n    </tr>\n    <tr>\n      <th>13497</th>\n      <td>22352</td>\n      <td>135071.0</td>\n      <td>1519.43</td>\n      <td>29.0</td>\n      <td>3</td>\n      <td>0</td>\n      <td>43453</td>\n      <td>58080.0</td>\n      <td>0.0</td>\n      <td>0</td>\n      <td>...</td>\n      <td>1</td>\n      <td>0</td>\n      <td>1</td>\n      <td>0</td>\n      <td>0</td>\n      <td>0</td>\n      <td>0</td>\n      <td>0</td>\n      <td>0</td>\n      <td>0</td>\n    </tr>\n    <tr>\n      <th>354</th>\n      <td>64526</td>\n      <td>185782.0</td>\n      <td>4799.40</td>\n      <td>10.1</td>\n      <td>8</td>\n      <td>0</td>\n      <td>72257</td>\n      <td>172128.0</td>\n      <td>0.0</td>\n      <td>0</td>\n      <td>...</td>\n      <td>1</td>\n      <td>0</td>\n      <td>0</td>\n      <td>1</td>\n      <td>0</td>\n      <td>0</td>\n      <td>0</td>\n      <td>0</td>\n      <td>0</td>\n      <td>0</td>\n    </tr>\n    <tr>\n      <th>21175</th>\n      <td>60236</td>\n      <td>188404.0</td>\n      <td>1467.94</td>\n      <td>9.0</td>\n      <td>4</td>\n      <td>0</td>\n      <td>89661</td>\n      <td>211024.0</td>\n      <td>0.0</td>\n      <td>0</td>\n      <td>...</td>\n      <td>1</td>\n      <td>0</td>\n      <td>0</td>\n      <td>1</td>\n      <td>0</td>\n      <td>0</td>\n      <td>0</td>\n      <td>0</td>\n      <td>0</td>\n      <td>0</td>\n    </tr>\n    <tr>\n      <th>2837</th>\n      <td>69762</td>\n      <td>180728.0</td>\n      <td>3031.64</td>\n      <td>13.5</td>\n      <td>3</td>\n      <td>0</td>\n      <td>13129</td>\n      <td>165132.0</td>\n      <td>0.0</td>\n      <td>0</td>\n      <td>...</td>\n      <td>0</td>\n      <td>0</td>\n      <td>0</td>\n      <td>0</td>\n      <td>0</td>\n      <td>0</td>\n      <td>0</td>\n      <td>0</td>\n      <td>0</td>\n      <td>1</td>\n    </tr>\n    <tr>\n      <th>26925</th>\n      <td>58036</td>\n      <td>185041.0</td>\n      <td>192.85</td>\n      <td>8.3</td>\n      <td>17</td>\n      <td>0</td>\n      <td>7904</td>\n      <td>397848.0</td>\n      <td>0.0</td>\n      <td>0</td>\n      <td>...</td>\n      <td>1</td>\n      <td>0</td>\n      <td>0</td>\n      <td>1</td>\n      <td>0</td>\n      <td>0</td>\n      <td>0</td>\n      <td>0</td>\n      <td>0</td>\n      <td>0</td>\n    </tr>\n    <tr>\n      <th>59170</th>\n      <td>67452</td>\n      <td>194161.0</td>\n      <td>4287.73</td>\n      <td>8.9</td>\n      <td>5</td>\n      <td>0</td>\n      <td>120821</td>\n      <td>175318.0</td>\n      <td>0.0</td>\n      <td>0</td>\n      <td>...</td>\n      <td>1</td>\n      <td>0</td>\n      <td>0</td>\n      <td>1</td>\n      <td>0</td>\n      <td>0</td>\n      <td>0</td>\n      <td>0</td>\n      <td>0</td>\n      <td>0</td>\n    </tr>\n    <tr>\n      <th>77436</th>\n      <td>50512</td>\n      <td>176586.0</td>\n      <td>2207.42</td>\n      <td>12.5</td>\n      <td>7</td>\n      <td>1</td>\n      <td>71250</td>\n      <td>147048.0</td>\n      <td>0.0</td>\n      <td>0</td>\n      <td>...</td>\n      <td>1</td>\n      <td>0</td>\n      <td>0</td>\n      <td>0</td>\n      <td>0</td>\n      <td>0</td>\n      <td>0</td>\n      <td>0</td>\n      <td>0</td>\n      <td>1</td>\n    </tr>\n    <tr>\n      <th>30427</th>\n      <td>84942</td>\n      <td>199386.0</td>\n      <td>2276.39</td>\n      <td>11.5</td>\n      <td>12</td>\n      <td>1</td>\n      <td>51129</td>\n      <td>451902.0</td>\n      <td>0.0</td>\n      <td>0</td>\n      <td>...</td>\n      <td>1</td>\n      <td>0</td>\n      <td>0</td>\n      <td>1</td>\n      <td>0</td>\n      <td>0</td>\n      <td>0</td>\n      <td>0</td>\n      <td>0</td>\n      <td>0</td>\n    </tr>\n    <tr>\n      <th>12529</th>\n      <td>99999999</td>\n      <td>135071.0</td>\n      <td>1519.43</td>\n      <td>29.0</td>\n      <td>3</td>\n      <td>0</td>\n      <td>43453</td>\n      <td>58080.0</td>\n      <td>0.0</td>\n      <td>0</td>\n      <td>...</td>\n      <td>1</td>\n      <td>0</td>\n      <td>1</td>\n      <td>0</td>\n      <td>0</td>\n      <td>0</td>\n      <td>0</td>\n      <td>0</td>\n      <td>0</td>\n      <td>0</td>\n    </tr>\n    <tr>\n      <th>83540</th>\n      <td>65868</td>\n      <td>189601.0</td>\n      <td>1459.96</td>\n      <td>16.5</td>\n      <td>19</td>\n      <td>0</td>\n      <td>98705</td>\n      <td>327492.0</td>\n      <td>0.0</td>\n      <td>0</td>\n      <td>...</td>\n      <td>1</td>\n      <td>0</td>\n      <td>0</td>\n      <td>0</td>\n      <td>0</td>\n      <td>0</td>\n      <td>0</td>\n      <td>1</td>\n      <td>0</td>\n      <td>0</td>\n    </tr>\n    <tr>\n      <th>44420</th>\n      <td>65384</td>\n      <td>188233.0</td>\n      <td>2744.93</td>\n      <td>16.0</td>\n      <td>6</td>\n      <td>0</td>\n      <td>79838</td>\n      <td>309144.0</td>\n      <td>0.0</td>\n      <td>0</td>\n      <td>...</td>\n      <td>1</td>\n      <td>0</td>\n      <td>0</td>\n      <td>0</td>\n      <td>0</td>\n      <td>0</td>\n      <td>0</td>\n      <td>0</td>\n      <td>0</td>\n      <td>1</td>\n    </tr>\n    <tr>\n      <th>71708</th>\n      <td>99999999</td>\n      <td>166839.0</td>\n      <td>3100.23</td>\n      <td>10.5</td>\n      <td>6</td>\n      <td>0</td>\n      <td>119377</td>\n      <td>216986.0</td>\n      <td>0.0</td>\n      <td>0</td>\n      <td>...</td>\n      <td>1</td>\n      <td>0</td>\n      <td>0</td>\n      <td>1</td>\n      <td>0</td>\n      <td>0</td>\n      <td>0</td>\n      <td>0</td>\n      <td>0</td>\n      <td>0</td>\n    </tr>\n  </tbody>\n</table>\n<p>25 rows × 203 columns</p>\n</div>"
     },
     "execution_count": 24,
     "metadata": {},
     "output_type": "execute_result"
    }
   ],
   "source": [
    "X_train"
   ],
   "metadata": {
    "collapsed": false,
    "pycharm": {
     "name": "#%%\n"
    }
   }
  },
  {
   "cell_type": "code",
   "execution_count": 25,
   "outputs": [
    {
     "name": "stderr",
     "output_type": "stream",
     "text": [
      "/home/c0sta/PycharmProjects/1899_full_msu_courser_data_analisis/venv/lib/python3.8/site-packages/sklearn/linear_model/_logistic.py:444: ConvergenceWarning: lbfgs failed to converge (status=1):\n",
      "STOP: TOTAL NO. of ITERATIONS REACHED LIMIT.\n",
      "\n",
      "Increase the number of iterations (max_iter) or scale the data as shown in:\n",
      "    https://scikit-learn.org/stable/modules/preprocessing.html\n",
      "Please also refer to the documentation for alternative solver options:\n",
      "    https://scikit-learn.org/stable/modules/linear_model.html#logistic-regression\n",
      "  n_iter_i = _check_optimize_result(\n"
     ]
    }
   ],
   "source": [
    "log_reg = LogisticRegression().fit(X_train, y_train)"
   ],
   "metadata": {
    "collapsed": false,
    "pycharm": {
     "name": "#%%\n"
    }
   }
  },
  {
   "cell_type": "code",
   "execution_count": 26,
   "outputs": [
    {
     "data": {
      "text/plain": "0.36"
     },
     "execution_count": 26,
     "metadata": {},
     "output_type": "execute_result"
    }
   ],
   "source": [
    "log_reg.score(X_train,y_train)"
   ],
   "metadata": {
    "collapsed": false,
    "pycharm": {
     "name": "#%%\n"
    }
   }
  },
  {
   "cell_type": "code",
   "execution_count": 27,
   "outputs": [
    {
     "data": {
      "text/plain": "0.013333333333333334"
     },
     "execution_count": 27,
     "metadata": {},
     "output_type": "execute_result"
    }
   ],
   "source": [
    "log_reg.score(X_test,y_test)"
   ],
   "metadata": {
    "collapsed": false,
    "pycharm": {
     "name": "#%%\n"
    }
   }
  },
  {
   "cell_type": "code",
   "execution_count": null,
   "outputs": [],
   "source": [],
   "metadata": {
    "collapsed": false,
    "pycharm": {
     "name": "#%%\n"
    }
   }
  },
  {
   "cell_type": "code",
   "execution_count": null,
   "outputs": [],
   "source": [],
   "metadata": {
    "collapsed": false,
    "pycharm": {
     "name": "#%%\n"
    }
   }
  }
 ],
 "metadata": {
  "kernelspec": {
   "display_name": "Python 3",
   "language": "python",
   "name": "python3"
  },
  "language_info": {
   "codemirror_mode": {
    "name": "ipython",
    "version": 2
   },
   "file_extension": ".py",
   "mimetype": "text/x-python",
   "name": "python",
   "nbconvert_exporter": "python",
   "pygments_lexer": "ipython2",
   "version": "2.7.6"
  }
 },
 "nbformat": 4,
 "nbformat_minor": 0
}